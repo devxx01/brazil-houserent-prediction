{
  "nbformat": 4,
  "nbformat_minor": 0,
  "metadata": {
    "colab": {
      "name": "pemlan.ipynb",
      "provenance": [],
      "collapsed_sections": [
        "TavdpE30zdHA"
      ]
    },
    "kernelspec": {
      "display_name": "Python 3",
      "name": "python3"
    },
    "language_info": {
      "name": "python"
    }
  },
  "cells": [
    {
      "cell_type": "markdown",
      "metadata": {
        "id": "Xim82brwMbCS"
      },
      "source": [
        "# Data Pre-Processing"
      ]
    },
    {
      "cell_type": "code",
      "metadata": {
        "colab": {
          "base_uri": "https://localhost:8080/"
        },
        "id": "HudGoaAHNXQh",
        "outputId": "d5e17470-46b9-4136-e871-b280fcd8df9f"
      },
      "source": [
        "import pandas as pd\n",
        "df = pd.read_csv(\"houses_to_rent_v2.csv\")\n",
        "df.head()"
      ],
      "execution_count": null,
      "outputs": [
        {
          "output_type": "execute_result",
          "data": {
            "text/html": [
              "<div>\n",
              "<style scoped>\n",
              "    .dataframe tbody tr th:only-of-type {\n",
              "        vertical-align: middle;\n",
              "    }\n",
              "\n",
              "    .dataframe tbody tr th {\n",
              "        vertical-align: top;\n",
              "    }\n",
              "\n",
              "    .dataframe thead th {\n",
              "        text-align: right;\n",
              "    }\n",
              "</style>\n",
              "<table border=\"1\" class=\"dataframe\">\n",
              "  <thead>\n",
              "    <tr style=\"text-align: right;\">\n",
              "      <th></th>\n",
              "      <th>city</th>\n",
              "      <th>area</th>\n",
              "      <th>rooms</th>\n",
              "      <th>bathroom</th>\n",
              "      <th>parking spaces</th>\n",
              "      <th>floor</th>\n",
              "      <th>animal</th>\n",
              "      <th>furniture</th>\n",
              "      <th>hoa (R$)</th>\n",
              "      <th>rent amount (R$)</th>\n",
              "      <th>property tax (R$)</th>\n",
              "      <th>fire insurance (R$)</th>\n",
              "      <th>total (R$)</th>\n",
              "    </tr>\n",
              "  </thead>\n",
              "  <tbody>\n",
              "    <tr>\n",
              "      <th>0</th>\n",
              "      <td>São Paulo</td>\n",
              "      <td>70</td>\n",
              "      <td>2</td>\n",
              "      <td>1</td>\n",
              "      <td>1</td>\n",
              "      <td>7</td>\n",
              "      <td>acept</td>\n",
              "      <td>furnished</td>\n",
              "      <td>2065</td>\n",
              "      <td>3300</td>\n",
              "      <td>211</td>\n",
              "      <td>42</td>\n",
              "      <td>5618</td>\n",
              "    </tr>\n",
              "    <tr>\n",
              "      <th>1</th>\n",
              "      <td>São Paulo</td>\n",
              "      <td>320</td>\n",
              "      <td>4</td>\n",
              "      <td>4</td>\n",
              "      <td>0</td>\n",
              "      <td>20</td>\n",
              "      <td>acept</td>\n",
              "      <td>not furnished</td>\n",
              "      <td>1200</td>\n",
              "      <td>4960</td>\n",
              "      <td>1750</td>\n",
              "      <td>63</td>\n",
              "      <td>7973</td>\n",
              "    </tr>\n",
              "    <tr>\n",
              "      <th>2</th>\n",
              "      <td>Porto Alegre</td>\n",
              "      <td>80</td>\n",
              "      <td>1</td>\n",
              "      <td>1</td>\n",
              "      <td>1</td>\n",
              "      <td>6</td>\n",
              "      <td>acept</td>\n",
              "      <td>not furnished</td>\n",
              "      <td>1000</td>\n",
              "      <td>2800</td>\n",
              "      <td>0</td>\n",
              "      <td>41</td>\n",
              "      <td>3841</td>\n",
              "    </tr>\n",
              "    <tr>\n",
              "      <th>3</th>\n",
              "      <td>Porto Alegre</td>\n",
              "      <td>51</td>\n",
              "      <td>2</td>\n",
              "      <td>1</td>\n",
              "      <td>0</td>\n",
              "      <td>2</td>\n",
              "      <td>acept</td>\n",
              "      <td>not furnished</td>\n",
              "      <td>270</td>\n",
              "      <td>1112</td>\n",
              "      <td>22</td>\n",
              "      <td>17</td>\n",
              "      <td>1421</td>\n",
              "    </tr>\n",
              "    <tr>\n",
              "      <th>4</th>\n",
              "      <td>São Paulo</td>\n",
              "      <td>25</td>\n",
              "      <td>1</td>\n",
              "      <td>1</td>\n",
              "      <td>0</td>\n",
              "      <td>1</td>\n",
              "      <td>not acept</td>\n",
              "      <td>not furnished</td>\n",
              "      <td>0</td>\n",
              "      <td>800</td>\n",
              "      <td>25</td>\n",
              "      <td>11</td>\n",
              "      <td>836</td>\n",
              "    </tr>\n",
              "  </tbody>\n",
              "</table>\n",
              "</div>"
            ],
            "text/plain": [
              "           city  area  ...  fire insurance (R$)  total (R$)\n",
              "0     São Paulo    70  ...                   42        5618\n",
              "1     São Paulo   320  ...                   63        7973\n",
              "2  Porto Alegre    80  ...                   41        3841\n",
              "3  Porto Alegre    51  ...                   17        1421\n",
              "4     São Paulo    25  ...                   11         836\n",
              "\n",
              "[5 rows x 13 columns]"
            ]
          },
          "metadata": {},
          "execution_count": 2
        }
      ]
    },
    {
      "cell_type": "code",
      "metadata": {
        "colab": {
          "base_uri": "https://localhost:8080/"
        },
        "id": "bqOwcnozWmHv",
        "outputId": "ebca8ceb-9bba-43a0-ccf0-fde16a70ab79"
      },
      "source": [
        "df.info()"
      ],
      "execution_count": null,
      "outputs": [
        {
          "output_type": "stream",
          "name": "stdout",
          "text": [
            "<class 'pandas.core.frame.DataFrame'>\n",
            "RangeIndex: 10692 entries, 0 to 10691\n",
            "Data columns (total 13 columns):\n",
            " #   Column               Non-Null Count  Dtype \n",
            "---  ------               --------------  ----- \n",
            " 0   city                 10692 non-null  object\n",
            " 1   area                 10692 non-null  int64 \n",
            " 2   rooms                10692 non-null  int64 \n",
            " 3   bathroom             10692 non-null  int64 \n",
            " 4   parking spaces       10692 non-null  int64 \n",
            " 5   floor                10692 non-null  object\n",
            " 6   animal               10692 non-null  object\n",
            " 7   furniture            10692 non-null  object\n",
            " 8   hoa (R$)             10692 non-null  int64 \n",
            " 9   rent amount (R$)     10692 non-null  int64 \n",
            " 10  property tax (R$)    10692 non-null  int64 \n",
            " 11  fire insurance (R$)  10692 non-null  int64 \n",
            " 12  total (R$)           10692 non-null  int64 \n",
            "dtypes: int64(9), object(4)\n",
            "memory usage: 1.1+ MB\n"
          ]
        }
      ]
    },
    {
      "cell_type": "markdown",
      "metadata": {
        "id": "TpFqTikfehMJ"
      },
      "source": [
        "# Data Cleansing"
      ]
    },
    {
      "cell_type": "code",
      "metadata": {
        "colab": {
          "base_uri": "https://localhost:8080/",
          "height": 1000
        },
        "id": "-BbicVVPYUfI",
        "outputId": "6e7b07c1-7ef4-44fa-d1d2-30534ce23ff5"
      },
      "source": [
        "df1 = df.drop([\"hoa (R$)\",\"property tax (R$)\",\"fire insurance (R$)\",\"total (R$)\"], axis=1)\n",
        "df1[0:50]"
      ],
      "execution_count": null,
      "outputs": [
        {
          "output_type": "execute_result",
          "data": {
            "text/html": [
              "<div>\n",
              "<style scoped>\n",
              "    .dataframe tbody tr th:only-of-type {\n",
              "        vertical-align: middle;\n",
              "    }\n",
              "\n",
              "    .dataframe tbody tr th {\n",
              "        vertical-align: top;\n",
              "    }\n",
              "\n",
              "    .dataframe thead th {\n",
              "        text-align: right;\n",
              "    }\n",
              "</style>\n",
              "<table border=\"1\" class=\"dataframe\">\n",
              "  <thead>\n",
              "    <tr style=\"text-align: right;\">\n",
              "      <th></th>\n",
              "      <th>city</th>\n",
              "      <th>area</th>\n",
              "      <th>rooms</th>\n",
              "      <th>bathroom</th>\n",
              "      <th>parking spaces</th>\n",
              "      <th>floor</th>\n",
              "      <th>animal</th>\n",
              "      <th>furniture</th>\n",
              "      <th>rent amount (R$)</th>\n",
              "    </tr>\n",
              "  </thead>\n",
              "  <tbody>\n",
              "    <tr>\n",
              "      <th>0</th>\n",
              "      <td>São Paulo</td>\n",
              "      <td>70</td>\n",
              "      <td>2</td>\n",
              "      <td>1</td>\n",
              "      <td>1</td>\n",
              "      <td>7</td>\n",
              "      <td>acept</td>\n",
              "      <td>furnished</td>\n",
              "      <td>3300</td>\n",
              "    </tr>\n",
              "    <tr>\n",
              "      <th>1</th>\n",
              "      <td>São Paulo</td>\n",
              "      <td>320</td>\n",
              "      <td>4</td>\n",
              "      <td>4</td>\n",
              "      <td>0</td>\n",
              "      <td>20</td>\n",
              "      <td>acept</td>\n",
              "      <td>not furnished</td>\n",
              "      <td>4960</td>\n",
              "    </tr>\n",
              "    <tr>\n",
              "      <th>2</th>\n",
              "      <td>Porto Alegre</td>\n",
              "      <td>80</td>\n",
              "      <td>1</td>\n",
              "      <td>1</td>\n",
              "      <td>1</td>\n",
              "      <td>6</td>\n",
              "      <td>acept</td>\n",
              "      <td>not furnished</td>\n",
              "      <td>2800</td>\n",
              "    </tr>\n",
              "    <tr>\n",
              "      <th>3</th>\n",
              "      <td>Porto Alegre</td>\n",
              "      <td>51</td>\n",
              "      <td>2</td>\n",
              "      <td>1</td>\n",
              "      <td>0</td>\n",
              "      <td>2</td>\n",
              "      <td>acept</td>\n",
              "      <td>not furnished</td>\n",
              "      <td>1112</td>\n",
              "    </tr>\n",
              "    <tr>\n",
              "      <th>4</th>\n",
              "      <td>São Paulo</td>\n",
              "      <td>25</td>\n",
              "      <td>1</td>\n",
              "      <td>1</td>\n",
              "      <td>0</td>\n",
              "      <td>1</td>\n",
              "      <td>not acept</td>\n",
              "      <td>not furnished</td>\n",
              "      <td>800</td>\n",
              "    </tr>\n",
              "    <tr>\n",
              "      <th>5</th>\n",
              "      <td>São Paulo</td>\n",
              "      <td>376</td>\n",
              "      <td>3</td>\n",
              "      <td>3</td>\n",
              "      <td>7</td>\n",
              "      <td>-</td>\n",
              "      <td>acept</td>\n",
              "      <td>not furnished</td>\n",
              "      <td>8000</td>\n",
              "    </tr>\n",
              "    <tr>\n",
              "      <th>6</th>\n",
              "      <td>Rio de Janeiro</td>\n",
              "      <td>72</td>\n",
              "      <td>2</td>\n",
              "      <td>1</td>\n",
              "      <td>0</td>\n",
              "      <td>7</td>\n",
              "      <td>acept</td>\n",
              "      <td>not furnished</td>\n",
              "      <td>1900</td>\n",
              "    </tr>\n",
              "    <tr>\n",
              "      <th>7</th>\n",
              "      <td>São Paulo</td>\n",
              "      <td>213</td>\n",
              "      <td>4</td>\n",
              "      <td>4</td>\n",
              "      <td>4</td>\n",
              "      <td>4</td>\n",
              "      <td>acept</td>\n",
              "      <td>not furnished</td>\n",
              "      <td>3223</td>\n",
              "    </tr>\n",
              "    <tr>\n",
              "      <th>8</th>\n",
              "      <td>São Paulo</td>\n",
              "      <td>152</td>\n",
              "      <td>2</td>\n",
              "      <td>2</td>\n",
              "      <td>1</td>\n",
              "      <td>3</td>\n",
              "      <td>acept</td>\n",
              "      <td>furnished</td>\n",
              "      <td>15000</td>\n",
              "    </tr>\n",
              "    <tr>\n",
              "      <th>9</th>\n",
              "      <td>Rio de Janeiro</td>\n",
              "      <td>35</td>\n",
              "      <td>1</td>\n",
              "      <td>1</td>\n",
              "      <td>0</td>\n",
              "      <td>2</td>\n",
              "      <td>acept</td>\n",
              "      <td>furnished</td>\n",
              "      <td>2300</td>\n",
              "    </tr>\n",
              "    <tr>\n",
              "      <th>10</th>\n",
              "      <td>São Paulo</td>\n",
              "      <td>26</td>\n",
              "      <td>1</td>\n",
              "      <td>1</td>\n",
              "      <td>0</td>\n",
              "      <td>2</td>\n",
              "      <td>acept</td>\n",
              "      <td>furnished</td>\n",
              "      <td>2100</td>\n",
              "    </tr>\n",
              "    <tr>\n",
              "      <th>11</th>\n",
              "      <td>Campinas</td>\n",
              "      <td>46</td>\n",
              "      <td>1</td>\n",
              "      <td>1</td>\n",
              "      <td>1</td>\n",
              "      <td>10</td>\n",
              "      <td>acept</td>\n",
              "      <td>not furnished</td>\n",
              "      <td>580</td>\n",
              "    </tr>\n",
              "    <tr>\n",
              "      <th>12</th>\n",
              "      <td>São Paulo</td>\n",
              "      <td>36</td>\n",
              "      <td>1</td>\n",
              "      <td>1</td>\n",
              "      <td>0</td>\n",
              "      <td>11</td>\n",
              "      <td>acept</td>\n",
              "      <td>not furnished</td>\n",
              "      <td>2100</td>\n",
              "    </tr>\n",
              "    <tr>\n",
              "      <th>13</th>\n",
              "      <td>São Paulo</td>\n",
              "      <td>55</td>\n",
              "      <td>1</td>\n",
              "      <td>1</td>\n",
              "      <td>1</td>\n",
              "      <td>2</td>\n",
              "      <td>acept</td>\n",
              "      <td>furnished</td>\n",
              "      <td>4200</td>\n",
              "    </tr>\n",
              "    <tr>\n",
              "      <th>14</th>\n",
              "      <td>São Paulo</td>\n",
              "      <td>100</td>\n",
              "      <td>2</td>\n",
              "      <td>2</td>\n",
              "      <td>2</td>\n",
              "      <td>24</td>\n",
              "      <td>acept</td>\n",
              "      <td>furnished</td>\n",
              "      <td>4370</td>\n",
              "    </tr>\n",
              "    <tr>\n",
              "      <th>15</th>\n",
              "      <td>Campinas</td>\n",
              "      <td>330</td>\n",
              "      <td>4</td>\n",
              "      <td>6</td>\n",
              "      <td>6</td>\n",
              "      <td>-</td>\n",
              "      <td>acept</td>\n",
              "      <td>furnished</td>\n",
              "      <td>8000</td>\n",
              "    </tr>\n",
              "    <tr>\n",
              "      <th>16</th>\n",
              "      <td>São Paulo</td>\n",
              "      <td>110</td>\n",
              "      <td>2</td>\n",
              "      <td>2</td>\n",
              "      <td>1</td>\n",
              "      <td>1</td>\n",
              "      <td>acept</td>\n",
              "      <td>not furnished</td>\n",
              "      <td>3000</td>\n",
              "    </tr>\n",
              "    <tr>\n",
              "      <th>17</th>\n",
              "      <td>Rio de Janeiro</td>\n",
              "      <td>88</td>\n",
              "      <td>2</td>\n",
              "      <td>3</td>\n",
              "      <td>1</td>\n",
              "      <td>9</td>\n",
              "      <td>not acept</td>\n",
              "      <td>furnished</td>\n",
              "      <td>3500</td>\n",
              "    </tr>\n",
              "    <tr>\n",
              "      <th>18</th>\n",
              "      <td>Rio de Janeiro</td>\n",
              "      <td>56</td>\n",
              "      <td>2</td>\n",
              "      <td>1</td>\n",
              "      <td>0</td>\n",
              "      <td>8</td>\n",
              "      <td>acept</td>\n",
              "      <td>not furnished</td>\n",
              "      <td>1220</td>\n",
              "    </tr>\n",
              "    <tr>\n",
              "      <th>19</th>\n",
              "      <td>São Paulo</td>\n",
              "      <td>600</td>\n",
              "      <td>4</td>\n",
              "      <td>5</td>\n",
              "      <td>6</td>\n",
              "      <td>-</td>\n",
              "      <td>acept</td>\n",
              "      <td>not furnished</td>\n",
              "      <td>12000</td>\n",
              "    </tr>\n",
              "    <tr>\n",
              "      <th>20</th>\n",
              "      <td>São Paulo</td>\n",
              "      <td>100</td>\n",
              "      <td>7</td>\n",
              "      <td>4</td>\n",
              "      <td>0</td>\n",
              "      <td>-</td>\n",
              "      <td>acept</td>\n",
              "      <td>not furnished</td>\n",
              "      <td>3800</td>\n",
              "    </tr>\n",
              "    <tr>\n",
              "      <th>21</th>\n",
              "      <td>Belo Horizonte</td>\n",
              "      <td>42</td>\n",
              "      <td>1</td>\n",
              "      <td>1</td>\n",
              "      <td>1</td>\n",
              "      <td>17</td>\n",
              "      <td>not acept</td>\n",
              "      <td>furnished</td>\n",
              "      <td>2690</td>\n",
              "    </tr>\n",
              "    <tr>\n",
              "      <th>22</th>\n",
              "      <td>São Paulo</td>\n",
              "      <td>160</td>\n",
              "      <td>3</td>\n",
              "      <td>2</td>\n",
              "      <td>2</td>\n",
              "      <td>18</td>\n",
              "      <td>acept</td>\n",
              "      <td>furnished</td>\n",
              "      <td>1900</td>\n",
              "    </tr>\n",
              "    <tr>\n",
              "      <th>23</th>\n",
              "      <td>São Paulo</td>\n",
              "      <td>35</td>\n",
              "      <td>1</td>\n",
              "      <td>1</td>\n",
              "      <td>0</td>\n",
              "      <td>-</td>\n",
              "      <td>acept</td>\n",
              "      <td>not furnished</td>\n",
              "      <td>1100</td>\n",
              "    </tr>\n",
              "    <tr>\n",
              "      <th>24</th>\n",
              "      <td>Rio de Janeiro</td>\n",
              "      <td>90</td>\n",
              "      <td>3</td>\n",
              "      <td>2</td>\n",
              "      <td>1</td>\n",
              "      <td>7</td>\n",
              "      <td>acept</td>\n",
              "      <td>not furnished</td>\n",
              "      <td>1800</td>\n",
              "    </tr>\n",
              "    <tr>\n",
              "      <th>25</th>\n",
              "      <td>São Paulo</td>\n",
              "      <td>49</td>\n",
              "      <td>1</td>\n",
              "      <td>1</td>\n",
              "      <td>1</td>\n",
              "      <td>10</td>\n",
              "      <td>acept</td>\n",
              "      <td>not furnished</td>\n",
              "      <td>3500</td>\n",
              "    </tr>\n",
              "    <tr>\n",
              "      <th>26</th>\n",
              "      <td>São Paulo</td>\n",
              "      <td>41</td>\n",
              "      <td>1</td>\n",
              "      <td>1</td>\n",
              "      <td>1</td>\n",
              "      <td>5</td>\n",
              "      <td>not acept</td>\n",
              "      <td>furnished</td>\n",
              "      <td>3000</td>\n",
              "    </tr>\n",
              "    <tr>\n",
              "      <th>27</th>\n",
              "      <td>Belo Horizonte</td>\n",
              "      <td>64</td>\n",
              "      <td>2</td>\n",
              "      <td>2</td>\n",
              "      <td>1</td>\n",
              "      <td>11</td>\n",
              "      <td>acept</td>\n",
              "      <td>not furnished</td>\n",
              "      <td>1500</td>\n",
              "    </tr>\n",
              "    <tr>\n",
              "      <th>28</th>\n",
              "      <td>Campinas</td>\n",
              "      <td>208</td>\n",
              "      <td>3</td>\n",
              "      <td>2</td>\n",
              "      <td>4</td>\n",
              "      <td>-</td>\n",
              "      <td>acept</td>\n",
              "      <td>not furnished</td>\n",
              "      <td>3180</td>\n",
              "    </tr>\n",
              "    <tr>\n",
              "      <th>29</th>\n",
              "      <td>São Paulo</td>\n",
              "      <td>20</td>\n",
              "      <td>1</td>\n",
              "      <td>1</td>\n",
              "      <td>0</td>\n",
              "      <td>5</td>\n",
              "      <td>acept</td>\n",
              "      <td>furnished</td>\n",
              "      <td>1800</td>\n",
              "    </tr>\n",
              "    <tr>\n",
              "      <th>30</th>\n",
              "      <td>São Paulo</td>\n",
              "      <td>55</td>\n",
              "      <td>2</td>\n",
              "      <td>2</td>\n",
              "      <td>2</td>\n",
              "      <td>6</td>\n",
              "      <td>acept</td>\n",
              "      <td>not furnished</td>\n",
              "      <td>1068</td>\n",
              "    </tr>\n",
              "    <tr>\n",
              "      <th>31</th>\n",
              "      <td>São Paulo</td>\n",
              "      <td>32</td>\n",
              "      <td>1</td>\n",
              "      <td>1</td>\n",
              "      <td>0</td>\n",
              "      <td>3</td>\n",
              "      <td>acept</td>\n",
              "      <td>not furnished</td>\n",
              "      <td>1700</td>\n",
              "    </tr>\n",
              "    <tr>\n",
              "      <th>32</th>\n",
              "      <td>São Paulo</td>\n",
              "      <td>80</td>\n",
              "      <td>2</td>\n",
              "      <td>2</td>\n",
              "      <td>1</td>\n",
              "      <td>11</td>\n",
              "      <td>acept</td>\n",
              "      <td>not furnished</td>\n",
              "      <td>2550</td>\n",
              "    </tr>\n",
              "    <tr>\n",
              "      <th>33</th>\n",
              "      <td>Rio de Janeiro</td>\n",
              "      <td>45</td>\n",
              "      <td>1</td>\n",
              "      <td>1</td>\n",
              "      <td>1</td>\n",
              "      <td>10</td>\n",
              "      <td>acept</td>\n",
              "      <td>furnished</td>\n",
              "      <td>2500</td>\n",
              "    </tr>\n",
              "    <tr>\n",
              "      <th>34</th>\n",
              "      <td>São Paulo</td>\n",
              "      <td>350</td>\n",
              "      <td>4</td>\n",
              "      <td>4</td>\n",
              "      <td>3</td>\n",
              "      <td>8</td>\n",
              "      <td>acept</td>\n",
              "      <td>not furnished</td>\n",
              "      <td>4000</td>\n",
              "    </tr>\n",
              "    <tr>\n",
              "      <th>35</th>\n",
              "      <td>Porto Alegre</td>\n",
              "      <td>38</td>\n",
              "      <td>1</td>\n",
              "      <td>1</td>\n",
              "      <td>2</td>\n",
              "      <td>11</td>\n",
              "      <td>not acept</td>\n",
              "      <td>not furnished</td>\n",
              "      <td>1750</td>\n",
              "    </tr>\n",
              "    <tr>\n",
              "      <th>36</th>\n",
              "      <td>São Paulo</td>\n",
              "      <td>30</td>\n",
              "      <td>1</td>\n",
              "      <td>1</td>\n",
              "      <td>0</td>\n",
              "      <td>1</td>\n",
              "      <td>acept</td>\n",
              "      <td>not furnished</td>\n",
              "      <td>1600</td>\n",
              "    </tr>\n",
              "    <tr>\n",
              "      <th>37</th>\n",
              "      <td>Belo Horizonte</td>\n",
              "      <td>80</td>\n",
              "      <td>3</td>\n",
              "      <td>2</td>\n",
              "      <td>1</td>\n",
              "      <td>-</td>\n",
              "      <td>acept</td>\n",
              "      <td>not furnished</td>\n",
              "      <td>11000</td>\n",
              "    </tr>\n",
              "    <tr>\n",
              "      <th>38</th>\n",
              "      <td>São Paulo</td>\n",
              "      <td>70</td>\n",
              "      <td>2</td>\n",
              "      <td>1</td>\n",
              "      <td>0</td>\n",
              "      <td>-</td>\n",
              "      <td>not acept</td>\n",
              "      <td>not furnished</td>\n",
              "      <td>1150</td>\n",
              "    </tr>\n",
              "    <tr>\n",
              "      <th>39</th>\n",
              "      <td>Porto Alegre</td>\n",
              "      <td>40</td>\n",
              "      <td>1</td>\n",
              "      <td>1</td>\n",
              "      <td>1</td>\n",
              "      <td>6</td>\n",
              "      <td>acept</td>\n",
              "      <td>furnished</td>\n",
              "      <td>2990</td>\n",
              "    </tr>\n",
              "    <tr>\n",
              "      <th>40</th>\n",
              "      <td>São Paulo</td>\n",
              "      <td>300</td>\n",
              "      <td>4</td>\n",
              "      <td>6</td>\n",
              "      <td>4</td>\n",
              "      <td>20</td>\n",
              "      <td>acept</td>\n",
              "      <td>not furnished</td>\n",
              "      <td>12000</td>\n",
              "    </tr>\n",
              "    <tr>\n",
              "      <th>41</th>\n",
              "      <td>São Paulo</td>\n",
              "      <td>240</td>\n",
              "      <td>3</td>\n",
              "      <td>2</td>\n",
              "      <td>3</td>\n",
              "      <td>-</td>\n",
              "      <td>acept</td>\n",
              "      <td>not furnished</td>\n",
              "      <td>3500</td>\n",
              "    </tr>\n",
              "    <tr>\n",
              "      <th>42</th>\n",
              "      <td>Belo Horizonte</td>\n",
              "      <td>200</td>\n",
              "      <td>4</td>\n",
              "      <td>2</td>\n",
              "      <td>1</td>\n",
              "      <td>7</td>\n",
              "      <td>not acept</td>\n",
              "      <td>not furnished</td>\n",
              "      <td>2550</td>\n",
              "    </tr>\n",
              "    <tr>\n",
              "      <th>43</th>\n",
              "      <td>Belo Horizonte</td>\n",
              "      <td>45</td>\n",
              "      <td>1</td>\n",
              "      <td>1</td>\n",
              "      <td>1</td>\n",
              "      <td>5</td>\n",
              "      <td>acept</td>\n",
              "      <td>not furnished</td>\n",
              "      <td>1631</td>\n",
              "    </tr>\n",
              "    <tr>\n",
              "      <th>44</th>\n",
              "      <td>São Paulo</td>\n",
              "      <td>360</td>\n",
              "      <td>4</td>\n",
              "      <td>5</td>\n",
              "      <td>0</td>\n",
              "      <td>1</td>\n",
              "      <td>acept</td>\n",
              "      <td>not furnished</td>\n",
              "      <td>6410</td>\n",
              "    </tr>\n",
              "    <tr>\n",
              "      <th>45</th>\n",
              "      <td>São Paulo</td>\n",
              "      <td>40</td>\n",
              "      <td>1</td>\n",
              "      <td>1</td>\n",
              "      <td>1</td>\n",
              "      <td>10</td>\n",
              "      <td>acept</td>\n",
              "      <td>furnished</td>\n",
              "      <td>2829</td>\n",
              "    </tr>\n",
              "    <tr>\n",
              "      <th>46</th>\n",
              "      <td>Belo Horizonte</td>\n",
              "      <td>100</td>\n",
              "      <td>3</td>\n",
              "      <td>1</td>\n",
              "      <td>0</td>\n",
              "      <td>13</td>\n",
              "      <td>not acept</td>\n",
              "      <td>not furnished</td>\n",
              "      <td>1220</td>\n",
              "    </tr>\n",
              "    <tr>\n",
              "      <th>47</th>\n",
              "      <td>Porto Alegre</td>\n",
              "      <td>42</td>\n",
              "      <td>1</td>\n",
              "      <td>1</td>\n",
              "      <td>2</td>\n",
              "      <td>2</td>\n",
              "      <td>acept</td>\n",
              "      <td>furnished</td>\n",
              "      <td>1770</td>\n",
              "    </tr>\n",
              "    <tr>\n",
              "      <th>48</th>\n",
              "      <td>Campinas</td>\n",
              "      <td>250</td>\n",
              "      <td>3</td>\n",
              "      <td>3</td>\n",
              "      <td>2</td>\n",
              "      <td>1</td>\n",
              "      <td>acept</td>\n",
              "      <td>not furnished</td>\n",
              "      <td>1700</td>\n",
              "    </tr>\n",
              "    <tr>\n",
              "      <th>49</th>\n",
              "      <td>Campinas</td>\n",
              "      <td>48</td>\n",
              "      <td>1</td>\n",
              "      <td>1</td>\n",
              "      <td>1</td>\n",
              "      <td>2</td>\n",
              "      <td>acept</td>\n",
              "      <td>furnished</td>\n",
              "      <td>1600</td>\n",
              "    </tr>\n",
              "  </tbody>\n",
              "</table>\n",
              "</div>"
            ],
            "text/plain": [
              "              city  area  rooms  ...     animal      furniture rent amount (R$)\n",
              "0        São Paulo    70      2  ...      acept      furnished             3300\n",
              "1        São Paulo   320      4  ...      acept  not furnished             4960\n",
              "2     Porto Alegre    80      1  ...      acept  not furnished             2800\n",
              "3     Porto Alegre    51      2  ...      acept  not furnished             1112\n",
              "4        São Paulo    25      1  ...  not acept  not furnished              800\n",
              "5        São Paulo   376      3  ...      acept  not furnished             8000\n",
              "6   Rio de Janeiro    72      2  ...      acept  not furnished             1900\n",
              "7        São Paulo   213      4  ...      acept  not furnished             3223\n",
              "8        São Paulo   152      2  ...      acept      furnished            15000\n",
              "9   Rio de Janeiro    35      1  ...      acept      furnished             2300\n",
              "10       São Paulo    26      1  ...      acept      furnished             2100\n",
              "11        Campinas    46      1  ...      acept  not furnished              580\n",
              "12       São Paulo    36      1  ...      acept  not furnished             2100\n",
              "13       São Paulo    55      1  ...      acept      furnished             4200\n",
              "14       São Paulo   100      2  ...      acept      furnished             4370\n",
              "15        Campinas   330      4  ...      acept      furnished             8000\n",
              "16       São Paulo   110      2  ...      acept  not furnished             3000\n",
              "17  Rio de Janeiro    88      2  ...  not acept      furnished             3500\n",
              "18  Rio de Janeiro    56      2  ...      acept  not furnished             1220\n",
              "19       São Paulo   600      4  ...      acept  not furnished            12000\n",
              "20       São Paulo   100      7  ...      acept  not furnished             3800\n",
              "21  Belo Horizonte    42      1  ...  not acept      furnished             2690\n",
              "22       São Paulo   160      3  ...      acept      furnished             1900\n",
              "23       São Paulo    35      1  ...      acept  not furnished             1100\n",
              "24  Rio de Janeiro    90      3  ...      acept  not furnished             1800\n",
              "25       São Paulo    49      1  ...      acept  not furnished             3500\n",
              "26       São Paulo    41      1  ...  not acept      furnished             3000\n",
              "27  Belo Horizonte    64      2  ...      acept  not furnished             1500\n",
              "28        Campinas   208      3  ...      acept  not furnished             3180\n",
              "29       São Paulo    20      1  ...      acept      furnished             1800\n",
              "30       São Paulo    55      2  ...      acept  not furnished             1068\n",
              "31       São Paulo    32      1  ...      acept  not furnished             1700\n",
              "32       São Paulo    80      2  ...      acept  not furnished             2550\n",
              "33  Rio de Janeiro    45      1  ...      acept      furnished             2500\n",
              "34       São Paulo   350      4  ...      acept  not furnished             4000\n",
              "35    Porto Alegre    38      1  ...  not acept  not furnished             1750\n",
              "36       São Paulo    30      1  ...      acept  not furnished             1600\n",
              "37  Belo Horizonte    80      3  ...      acept  not furnished            11000\n",
              "38       São Paulo    70      2  ...  not acept  not furnished             1150\n",
              "39    Porto Alegre    40      1  ...      acept      furnished             2990\n",
              "40       São Paulo   300      4  ...      acept  not furnished            12000\n",
              "41       São Paulo   240      3  ...      acept  not furnished             3500\n",
              "42  Belo Horizonte   200      4  ...  not acept  not furnished             2550\n",
              "43  Belo Horizonte    45      1  ...      acept  not furnished             1631\n",
              "44       São Paulo   360      4  ...      acept  not furnished             6410\n",
              "45       São Paulo    40      1  ...      acept      furnished             2829\n",
              "46  Belo Horizonte   100      3  ...  not acept  not furnished             1220\n",
              "47    Porto Alegre    42      1  ...      acept      furnished             1770\n",
              "48        Campinas   250      3  ...      acept  not furnished             1700\n",
              "49        Campinas    48      1  ...      acept      furnished             1600\n",
              "\n",
              "[50 rows x 9 columns]"
            ]
          },
          "metadata": {},
          "execution_count": 5
        }
      ]
    },
    {
      "cell_type": "code",
      "metadata": {
        "colab": {
          "base_uri": "https://localhost:8080/"
        },
        "id": "z9kq7Ch2jpC8",
        "outputId": "d7c37b4a-b427-4089-fec0-5d1a2bc9ceb3"
      },
      "source": [
        "#perubahan datatype animal ke bool\n",
        "boleh=(df1['animal'][0])\n",
        "tidak=(df1['animal'][4])\n",
        "\n",
        "for i in range(10692):\n",
        "  if df1['animal'][i]==boleh:\n",
        "    df1['animal'][i]=int(1)\n",
        "  elif df1['animal'][i]==tidak:\n",
        "    df1['animal'][i]=int(0)\n",
        "\n",
        "strip=df1['floor'][5]\n",
        "for i in range(10692):\n",
        "  if df1['floor'][i]==strip:\n",
        "    df1['floor'][i]=int(1)\n",
        "\n",
        "furnish=(df1['furniture'][0])\n",
        "unfurnish=(df1['furniture'][1])\n",
        "\n",
        "for i in range(10692):\n",
        "  if df1['furniture'][i]==furnish:\n",
        "    df1['furniture'][i]=int(1)\n",
        "  elif df1['furniture'][i]==unfurnish:\n",
        "    df1['furniture'][i]=int(0)\n",
        "\n",
        "df1[\"floor\"]=df1[\"floor\"].astype(int)\n",
        "df1[\"city\"]=df1[\"city\"].astype(str)"
      ],
      "execution_count": null,
      "outputs": [
        {
          "output_type": "stream",
          "name": "stderr",
          "text": [
            "/usr/local/lib/python3.7/dist-packages/ipykernel_launcher.py:7: SettingWithCopyWarning: \n",
            "A value is trying to be set on a copy of a slice from a DataFrame\n",
            "\n",
            "See the caveats in the documentation: https://pandas.pydata.org/pandas-docs/stable/user_guide/indexing.html#returning-a-view-versus-a-copy\n",
            "  import sys\n",
            "/usr/local/lib/python3.7/dist-packages/ipykernel_launcher.py:9: SettingWithCopyWarning: \n",
            "A value is trying to be set on a copy of a slice from a DataFrame\n",
            "\n",
            "See the caveats in the documentation: https://pandas.pydata.org/pandas-docs/stable/user_guide/indexing.html#returning-a-view-versus-a-copy\n",
            "  if __name__ == '__main__':\n",
            "/usr/local/lib/python3.7/dist-packages/ipykernel_launcher.py:14: SettingWithCopyWarning: \n",
            "A value is trying to be set on a copy of a slice from a DataFrame\n",
            "\n",
            "See the caveats in the documentation: https://pandas.pydata.org/pandas-docs/stable/user_guide/indexing.html#returning-a-view-versus-a-copy\n",
            "  \n",
            "/usr/local/lib/python3.7/dist-packages/ipykernel_launcher.py:21: SettingWithCopyWarning: \n",
            "A value is trying to be set on a copy of a slice from a DataFrame\n",
            "\n",
            "See the caveats in the documentation: https://pandas.pydata.org/pandas-docs/stable/user_guide/indexing.html#returning-a-view-versus-a-copy\n",
            "/usr/local/lib/python3.7/dist-packages/ipykernel_launcher.py:23: SettingWithCopyWarning: \n",
            "A value is trying to be set on a copy of a slice from a DataFrame\n",
            "\n",
            "See the caveats in the documentation: https://pandas.pydata.org/pandas-docs/stable/user_guide/indexing.html#returning-a-view-versus-a-copy\n"
          ]
        }
      ]
    },
    {
      "cell_type": "code",
      "metadata": {
        "colab": {
          "base_uri": "https://localhost:8080/",
          "height": 206
        },
        "id": "lBlJNliC8u-d",
        "outputId": "19e5039d-28c7-4ced-8f8a-54d945483912"
      },
      "source": [
        "df1.head()"
      ],
      "execution_count": null,
      "outputs": [
        {
          "output_type": "execute_result",
          "data": {
            "text/html": [
              "<div>\n",
              "<style scoped>\n",
              "    .dataframe tbody tr th:only-of-type {\n",
              "        vertical-align: middle;\n",
              "    }\n",
              "\n",
              "    .dataframe tbody tr th {\n",
              "        vertical-align: top;\n",
              "    }\n",
              "\n",
              "    .dataframe thead th {\n",
              "        text-align: right;\n",
              "    }\n",
              "</style>\n",
              "<table border=\"1\" class=\"dataframe\">\n",
              "  <thead>\n",
              "    <tr style=\"text-align: right;\">\n",
              "      <th></th>\n",
              "      <th>city</th>\n",
              "      <th>area</th>\n",
              "      <th>rooms</th>\n",
              "      <th>bathroom</th>\n",
              "      <th>parking spaces</th>\n",
              "      <th>floor</th>\n",
              "      <th>animal</th>\n",
              "      <th>furniture</th>\n",
              "      <th>rent amount (R$)</th>\n",
              "    </tr>\n",
              "  </thead>\n",
              "  <tbody>\n",
              "    <tr>\n",
              "      <th>0</th>\n",
              "      <td>São Paulo</td>\n",
              "      <td>70</td>\n",
              "      <td>2</td>\n",
              "      <td>1</td>\n",
              "      <td>1</td>\n",
              "      <td>7</td>\n",
              "      <td>1</td>\n",
              "      <td>1</td>\n",
              "      <td>3300</td>\n",
              "    </tr>\n",
              "    <tr>\n",
              "      <th>1</th>\n",
              "      <td>São Paulo</td>\n",
              "      <td>320</td>\n",
              "      <td>4</td>\n",
              "      <td>4</td>\n",
              "      <td>0</td>\n",
              "      <td>20</td>\n",
              "      <td>1</td>\n",
              "      <td>0</td>\n",
              "      <td>4960</td>\n",
              "    </tr>\n",
              "    <tr>\n",
              "      <th>2</th>\n",
              "      <td>Porto Alegre</td>\n",
              "      <td>80</td>\n",
              "      <td>1</td>\n",
              "      <td>1</td>\n",
              "      <td>1</td>\n",
              "      <td>6</td>\n",
              "      <td>1</td>\n",
              "      <td>0</td>\n",
              "      <td>2800</td>\n",
              "    </tr>\n",
              "    <tr>\n",
              "      <th>3</th>\n",
              "      <td>Porto Alegre</td>\n",
              "      <td>51</td>\n",
              "      <td>2</td>\n",
              "      <td>1</td>\n",
              "      <td>0</td>\n",
              "      <td>2</td>\n",
              "      <td>1</td>\n",
              "      <td>0</td>\n",
              "      <td>1112</td>\n",
              "    </tr>\n",
              "    <tr>\n",
              "      <th>4</th>\n",
              "      <td>São Paulo</td>\n",
              "      <td>25</td>\n",
              "      <td>1</td>\n",
              "      <td>1</td>\n",
              "      <td>0</td>\n",
              "      <td>1</td>\n",
              "      <td>0</td>\n",
              "      <td>0</td>\n",
              "      <td>800</td>\n",
              "    </tr>\n",
              "  </tbody>\n",
              "</table>\n",
              "</div>"
            ],
            "text/plain": [
              "           city  area  rooms  ...  animal  furniture  rent amount (R$)\n",
              "0     São Paulo    70      2  ...       1          1              3300\n",
              "1     São Paulo   320      4  ...       1          0              4960\n",
              "2  Porto Alegre    80      1  ...       1          0              2800\n",
              "3  Porto Alegre    51      2  ...       1          0              1112\n",
              "4     São Paulo    25      1  ...       0          0               800\n",
              "\n",
              "[5 rows x 9 columns]"
            ]
          },
          "metadata": {},
          "execution_count": 7
        }
      ]
    },
    {
      "cell_type": "code",
      "metadata": {
        "colab": {
          "base_uri": "https://localhost:8080/"
        },
        "id": "91mGChEs4V9I",
        "outputId": "a766f87c-16e1-48c4-b822-cdef4906fd9c"
      },
      "source": [
        "df1.info()"
      ],
      "execution_count": null,
      "outputs": [
        {
          "output_type": "stream",
          "name": "stdout",
          "text": [
            "<class 'pandas.core.frame.DataFrame'>\n",
            "RangeIndex: 10692 entries, 0 to 10691\n",
            "Data columns (total 9 columns):\n",
            " #   Column            Non-Null Count  Dtype \n",
            "---  ------            --------------  ----- \n",
            " 0   city              10692 non-null  object\n",
            " 1   area              10692 non-null  int64 \n",
            " 2   rooms             10692 non-null  int64 \n",
            " 3   bathroom          10692 non-null  int64 \n",
            " 4   parking spaces    10692 non-null  int64 \n",
            " 5   floor             10692 non-null  int64 \n",
            " 6   animal            10692 non-null  object\n",
            " 7   furniture         10692 non-null  object\n",
            " 8   rent amount (R$)  10692 non-null  int64 \n",
            "dtypes: int64(6), object(3)\n",
            "memory usage: 751.9+ KB\n"
          ]
        }
      ]
    },
    {
      "cell_type": "code",
      "metadata": {
        "colab": {
          "base_uri": "https://localhost:8080/",
          "height": 300
        },
        "id": "7P8Er6bR0ACD",
        "outputId": "19a21c2b-685c-44c4-9bb3-746a10191606"
      },
      "source": [
        "df1.describe()"
      ],
      "execution_count": null,
      "outputs": [
        {
          "output_type": "execute_result",
          "data": {
            "text/html": [
              "<div>\n",
              "<style scoped>\n",
              "    .dataframe tbody tr th:only-of-type {\n",
              "        vertical-align: middle;\n",
              "    }\n",
              "\n",
              "    .dataframe tbody tr th {\n",
              "        vertical-align: top;\n",
              "    }\n",
              "\n",
              "    .dataframe thead th {\n",
              "        text-align: right;\n",
              "    }\n",
              "</style>\n",
              "<table border=\"1\" class=\"dataframe\">\n",
              "  <thead>\n",
              "    <tr style=\"text-align: right;\">\n",
              "      <th></th>\n",
              "      <th>area</th>\n",
              "      <th>rooms</th>\n",
              "      <th>bathroom</th>\n",
              "      <th>parking spaces</th>\n",
              "      <th>floor</th>\n",
              "      <th>rent amount (R$)</th>\n",
              "    </tr>\n",
              "  </thead>\n",
              "  <tbody>\n",
              "    <tr>\n",
              "      <th>count</th>\n",
              "      <td>10692.000000</td>\n",
              "      <td>10692.000000</td>\n",
              "      <td>10692.000000</td>\n",
              "      <td>10692.000000</td>\n",
              "      <td>10692.000000</td>\n",
              "      <td>10692.000000</td>\n",
              "    </tr>\n",
              "    <tr>\n",
              "      <th>mean</th>\n",
              "      <td>149.217920</td>\n",
              "      <td>2.506079</td>\n",
              "      <td>2.236813</td>\n",
              "      <td>1.609147</td>\n",
              "      <td>5.298167</td>\n",
              "      <td>3896.247194</td>\n",
              "    </tr>\n",
              "    <tr>\n",
              "      <th>std</th>\n",
              "      <td>537.016942</td>\n",
              "      <td>1.171266</td>\n",
              "      <td>1.407198</td>\n",
              "      <td>1.589521</td>\n",
              "      <td>5.888747</td>\n",
              "      <td>3408.545518</td>\n",
              "    </tr>\n",
              "    <tr>\n",
              "      <th>min</th>\n",
              "      <td>11.000000</td>\n",
              "      <td>1.000000</td>\n",
              "      <td>1.000000</td>\n",
              "      <td>0.000000</td>\n",
              "      <td>1.000000</td>\n",
              "      <td>450.000000</td>\n",
              "    </tr>\n",
              "    <tr>\n",
              "      <th>25%</th>\n",
              "      <td>56.000000</td>\n",
              "      <td>2.000000</td>\n",
              "      <td>1.000000</td>\n",
              "      <td>0.000000</td>\n",
              "      <td>1.000000</td>\n",
              "      <td>1530.000000</td>\n",
              "    </tr>\n",
              "    <tr>\n",
              "      <th>50%</th>\n",
              "      <td>90.000000</td>\n",
              "      <td>2.000000</td>\n",
              "      <td>2.000000</td>\n",
              "      <td>1.000000</td>\n",
              "      <td>3.000000</td>\n",
              "      <td>2661.000000</td>\n",
              "    </tr>\n",
              "    <tr>\n",
              "      <th>75%</th>\n",
              "      <td>182.000000</td>\n",
              "      <td>3.000000</td>\n",
              "      <td>3.000000</td>\n",
              "      <td>2.000000</td>\n",
              "      <td>8.000000</td>\n",
              "      <td>5000.000000</td>\n",
              "    </tr>\n",
              "    <tr>\n",
              "      <th>max</th>\n",
              "      <td>46335.000000</td>\n",
              "      <td>13.000000</td>\n",
              "      <td>10.000000</td>\n",
              "      <td>12.000000</td>\n",
              "      <td>301.000000</td>\n",
              "      <td>45000.000000</td>\n",
              "    </tr>\n",
              "  </tbody>\n",
              "</table>\n",
              "</div>"
            ],
            "text/plain": [
              "               area         rooms  ...         floor  rent amount (R$)\n",
              "count  10692.000000  10692.000000  ...  10692.000000      10692.000000\n",
              "mean     149.217920      2.506079  ...      5.298167       3896.247194\n",
              "std      537.016942      1.171266  ...      5.888747       3408.545518\n",
              "min       11.000000      1.000000  ...      1.000000        450.000000\n",
              "25%       56.000000      2.000000  ...      1.000000       1530.000000\n",
              "50%       90.000000      2.000000  ...      3.000000       2661.000000\n",
              "75%      182.000000      3.000000  ...      8.000000       5000.000000\n",
              "max    46335.000000     13.000000  ...    301.000000      45000.000000\n",
              "\n",
              "[8 rows x 6 columns]"
            ]
          },
          "metadata": {},
          "execution_count": 9
        }
      ]
    },
    {
      "cell_type": "code",
      "metadata": {
        "colab": {
          "base_uri": "https://localhost:8080/",
          "height": 282
        },
        "id": "__ri50qu2-uX",
        "outputId": "1bc671a9-8c56-4703-9d88-dc5bcf079b95"
      },
      "source": [
        "df1[\"rent amount (R$)\"].plot.box(vert = False, grid = True)"
      ],
      "execution_count": null,
      "outputs": [
        {
          "output_type": "execute_result",
          "data": {
            "text/plain": [
              "<matplotlib.axes._subplots.AxesSubplot at 0x7f482b96a690>"
            ]
          },
          "metadata": {},
          "execution_count": 10
        },
        {
          "output_type": "display_data",
          "data": {
            "image/png": "[encoded data removed]",
            "text/plain": [
              "<Figure size 432x288 with 1 Axes>"
            ]
          },
          "metadata": {
            "needs_background": "light"
          }
        }
      ]
    },
    {
      "cell_type": "code",
      "metadata": {
        "colab": {
          "base_uri": "https://localhost:8080/",
          "height": 282
        },
        "id": "ze2ZSxYHlmNk",
        "outputId": "33f0d58c-4336-41cb-cf1c-f2baf076fa6f"
      },
      "source": [
        "df1[\"floor\"].plot.box(vert = False, grid = True)"
      ],
      "execution_count": null,
      "outputs": [
        {
          "output_type": "execute_result",
          "data": {
            "text/plain": [
              "<matplotlib.axes._subplots.AxesSubplot at 0x7f482b8a70d0>"
            ]
          },
          "metadata": {},
          "execution_count": 11
        },
        {
          "output_type": "display_data",
          "data": {
            "image/png": "[encoded data removed]",
            "text/plain": [
              "<Figure size 432x288 with 1 Axes>"
            ]
          },
          "metadata": {
            "needs_background": "light"
          }
        }
      ]
    },
    {
      "cell_type": "code",
      "metadata": {
        "colab": {
          "base_uri": "https://localhost:8080/",
          "height": 282
        },
        "id": "NCBrAGg4fY0r",
        "outputId": "0b5e0fd3-b26e-41e3-bb7e-cb9ae190f358"
      },
      "source": [
        "df1[\"area\"].plot.box(vert = False, grid = True)"
      ],
      "execution_count": null,
      "outputs": [
        {
          "output_type": "execute_result",
          "data": {
            "text/plain": [
              "<matplotlib.axes._subplots.AxesSubplot at 0x7f482b3c3b90>"
            ]
          },
          "metadata": {},
          "execution_count": 12
        },
        {
          "output_type": "display_data",
          "data": {
            "image/png": "[encoded data removed]",
            "text/plain": [
              "<Figure size 432x288 with 1 Axes>"
            ]
          },
          "metadata": {
            "needs_background": "light"
          }
        }
      ]
    },
    {
      "cell_type": "code",
      "metadata": {
        "colab": {
          "base_uri": "https://localhost:8080/",
          "height": 282
        },
        "id": "PZ9E9WkIc_p6",
        "outputId": "5a7406c5-4a7c-4d72-dab1-066509c86c3b"
      },
      "source": [
        "df1[[\"rooms\",\"bathroom\",\"parking spaces\"]].plot.box(vert = False, grid = True)"
      ],
      "execution_count": null,
      "outputs": [
        {
          "output_type": "execute_result",
          "data": {
            "text/plain": [
              "<matplotlib.axes._subplots.AxesSubplot at 0x7f482b341b90>"
            ]
          },
          "metadata": {},
          "execution_count": 13
        },
        {
          "output_type": "display_data",
          "data": {
            "image/png": "[encoded data removed]",
            "text/plain": [
              "<Figure size 432x288 with 1 Axes>"
            ]
          },
          "metadata": {
            "needs_background": "light"
          }
        }
      ]
    },
    {
      "cell_type": "code",
      "metadata": {
        "id": "m5AVYFIjdXgk"
      },
      "source": [
        "#remove outlier from rent amount\n",
        "q = df1[\"rent amount (R$)\"].quantile(0.99)\n",
        "df1[df1[\"rent amount (R$)\"] < q]\n",
        "q_low = df1[\"rent amount (R$)\"].quantile(0.01)\n",
        "q_hi  = df1[\"rent amount (R$)\"].quantile(0.8)"
      ],
      "execution_count": null,
      "outputs": []
    },
    {
      "cell_type": "code",
      "metadata": {
        "id": "8HJEuoOdemep"
      },
      "source": [
        "#remove outlier from rent amount\n",
        "f_low = df1[\"floor\"].quantile(0.01)\n",
        "f_hi  = df1[\"floor\"].quantile(0.9)"
      ],
      "execution_count": null,
      "outputs": []
    },
    {
      "cell_type": "code",
      "metadata": {
        "id": "2tUMHMRTiRG5"
      },
      "source": [
        "#remove outlier from area\n",
        "a_hi  = df1[\"area\"].quantile(0.75)"
      ],
      "execution_count": null,
      "outputs": []
    },
    {
      "cell_type": "code",
      "metadata": {
        "colab": {
          "base_uri": "https://localhost:8080/",
          "height": 300
        },
        "id": "ygoammPfeV6D",
        "outputId": "b18a2d8e-214a-413a-f8bb-a7eee377cc93"
      },
      "source": [
        "df1_filtered = df1[(df1[\"rent amount (R$)\"] < q_hi) & (df1[\"rent amount (R$)\"] > q_low) & (df1[\"floor\"] < f_hi) & (df1[\"floor\"] > f_low) & (df1[\"area\"] < a_hi)]\n",
        "df1_filtered.describe()"
      ],
      "execution_count": null,
      "outputs": [
        {
          "output_type": "execute_result",
          "data": {
            "text/html": [
              "<div>\n",
              "<style scoped>\n",
              "    .dataframe tbody tr th:only-of-type {\n",
              "        vertical-align: middle;\n",
              "    }\n",
              "\n",
              "    .dataframe tbody tr th {\n",
              "        vertical-align: top;\n",
              "    }\n",
              "\n",
              "    .dataframe thead th {\n",
              "        text-align: right;\n",
              "    }\n",
              "</style>\n",
              "<table border=\"1\" class=\"dataframe\">\n",
              "  <thead>\n",
              "    <tr style=\"text-align: right;\">\n",
              "      <th></th>\n",
              "      <th>area</th>\n",
              "      <th>rooms</th>\n",
              "      <th>bathroom</th>\n",
              "      <th>parking spaces</th>\n",
              "      <th>floor</th>\n",
              "      <th>rent amount (R$)</th>\n",
              "    </tr>\n",
              "  </thead>\n",
              "  <tbody>\n",
              "    <tr>\n",
              "      <th>count</th>\n",
              "      <td>4641.000000</td>\n",
              "      <td>4641.000000</td>\n",
              "      <td>4641.000000</td>\n",
              "      <td>4641.000000</td>\n",
              "      <td>4641.000000</td>\n",
              "      <td>4641.000000</td>\n",
              "    </tr>\n",
              "    <tr>\n",
              "      <th>mean</th>\n",
              "      <td>76.856927</td>\n",
              "      <td>2.080371</td>\n",
              "      <td>1.609782</td>\n",
              "      <td>0.970911</td>\n",
              "      <td>5.519716</td>\n",
              "      <td>2263.522948</td>\n",
              "    </tr>\n",
              "    <tr>\n",
              "      <th>std</th>\n",
              "      <td>36.339939</td>\n",
              "      <td>0.860911</td>\n",
              "      <td>0.783218</td>\n",
              "      <td>0.803424</td>\n",
              "      <td>3.004108</td>\n",
              "      <td>1154.398471</td>\n",
              "    </tr>\n",
              "    <tr>\n",
              "      <th>min</th>\n",
              "      <td>13.000000</td>\n",
              "      <td>1.000000</td>\n",
              "      <td>1.000000</td>\n",
              "      <td>0.000000</td>\n",
              "      <td>2.000000</td>\n",
              "      <td>647.000000</td>\n",
              "    </tr>\n",
              "    <tr>\n",
              "      <th>25%</th>\n",
              "      <td>50.000000</td>\n",
              "      <td>1.000000</td>\n",
              "      <td>1.000000</td>\n",
              "      <td>0.000000</td>\n",
              "      <td>3.000000</td>\n",
              "      <td>1350.000000</td>\n",
              "    </tr>\n",
              "    <tr>\n",
              "      <th>50%</th>\n",
              "      <td>70.000000</td>\n",
              "      <td>2.000000</td>\n",
              "      <td>1.000000</td>\n",
              "      <td>1.000000</td>\n",
              "      <td>5.000000</td>\n",
              "      <td>2000.000000</td>\n",
              "    </tr>\n",
              "    <tr>\n",
              "      <th>75%</th>\n",
              "      <td>97.000000</td>\n",
              "      <td>3.000000</td>\n",
              "      <td>2.000000</td>\n",
              "      <td>1.000000</td>\n",
              "      <td>8.000000</td>\n",
              "      <td>2990.000000</td>\n",
              "    </tr>\n",
              "    <tr>\n",
              "      <th>max</th>\n",
              "      <td>181.000000</td>\n",
              "      <td>7.000000</td>\n",
              "      <td>7.000000</td>\n",
              "      <td>5.000000</td>\n",
              "      <td>12.000000</td>\n",
              "      <td>5990.000000</td>\n",
              "    </tr>\n",
              "  </tbody>\n",
              "</table>\n",
              "</div>"
            ],
            "text/plain": [
              "              area        rooms  ...        floor  rent amount (R$)\n",
              "count  4641.000000  4641.000000  ...  4641.000000       4641.000000\n",
              "mean     76.856927     2.080371  ...     5.519716       2263.522948\n",
              "std      36.339939     0.860911  ...     3.004108       1154.398471\n",
              "min      13.000000     1.000000  ...     2.000000        647.000000\n",
              "25%      50.000000     1.000000  ...     3.000000       1350.000000\n",
              "50%      70.000000     2.000000  ...     5.000000       2000.000000\n",
              "75%      97.000000     3.000000  ...     8.000000       2990.000000\n",
              "max     181.000000     7.000000  ...    12.000000       5990.000000\n",
              "\n",
              "[8 rows x 6 columns]"
            ]
          },
          "metadata": {},
          "execution_count": 17
        }
      ]
    },
    {
      "cell_type": "code",
      "metadata": {
        "colab": {
          "base_uri": "https://localhost:8080/"
        },
        "id": "vK5L7728XB6C",
        "outputId": "973b5524-2db0-4cfa-d103-4c538c6eee64"
      },
      "source": [
        "df1_filtered.info()"
      ],
      "execution_count": null,
      "outputs": [
        {
          "output_type": "stream",
          "name": "stdout",
          "text": [
            "<class 'pandas.core.frame.DataFrame'>\n",
            "Int64Index: 4641 entries, 0 to 10687\n",
            "Data columns (total 9 columns):\n",
            " #   Column            Non-Null Count  Dtype \n",
            "---  ------            --------------  ----- \n",
            " 0   city              4641 non-null   object\n",
            " 1   area              4641 non-null   int64 \n",
            " 2   rooms             4641 non-null   int64 \n",
            " 3   bathroom          4641 non-null   int64 \n",
            " 4   parking spaces    4641 non-null   int64 \n",
            " 5   floor             4641 non-null   int64 \n",
            " 6   animal            4641 non-null   object\n",
            " 7   furniture         4641 non-null   object\n",
            " 8   rent amount (R$)  4641 non-null   int64 \n",
            "dtypes: int64(6), object(3)\n",
            "memory usage: 362.6+ KB\n"
          ]
        }
      ]
    },
    {
      "cell_type": "code",
      "metadata": {
        "colab": {
          "base_uri": "https://localhost:8080/"
        },
        "id": "NjNa0mZwcm5g",
        "outputId": "61d126ca-bd30-47a5-d370-0f1d36ceec0a"
      },
      "source": [
        "df1_filtered.shape"
      ],
      "execution_count": null,
      "outputs": [
        {
          "output_type": "execute_result",
          "data": {
            "text/plain": [
              "(4641, 9)"
            ]
          },
          "metadata": {},
          "execution_count": 19
        }
      ]
    },
    {
      "cell_type": "code",
      "metadata": {
        "colab": {
          "base_uri": "https://localhost:8080/",
          "height": 206
        },
        "id": "webu5nPUcG_u",
        "outputId": "59d7726f-3e76-494f-a194-6143f148ad92"
      },
      "source": [
        "df1_filtered.tail()"
      ],
      "execution_count": null,
      "outputs": [
        {
          "output_type": "execute_result",
          "data": {
            "text/html": [
              "<div>\n",
              "<style scoped>\n",
              "    .dataframe tbody tr th:only-of-type {\n",
              "        vertical-align: middle;\n",
              "    }\n",
              "\n",
              "    .dataframe tbody tr th {\n",
              "        vertical-align: top;\n",
              "    }\n",
              "\n",
              "    .dataframe thead th {\n",
              "        text-align: right;\n",
              "    }\n",
              "</style>\n",
              "<table border=\"1\" class=\"dataframe\">\n",
              "  <thead>\n",
              "    <tr style=\"text-align: right;\">\n",
              "      <th></th>\n",
              "      <th>city</th>\n",
              "      <th>area</th>\n",
              "      <th>rooms</th>\n",
              "      <th>bathroom</th>\n",
              "      <th>parking spaces</th>\n",
              "      <th>floor</th>\n",
              "      <th>animal</th>\n",
              "      <th>furniture</th>\n",
              "      <th>rent amount (R$)</th>\n",
              "    </tr>\n",
              "  </thead>\n",
              "  <tbody>\n",
              "    <tr>\n",
              "      <th>10665</th>\n",
              "      <td>Belo Horizonte</td>\n",
              "      <td>55</td>\n",
              "      <td>2</td>\n",
              "      <td>1</td>\n",
              "      <td>1</td>\n",
              "      <td>2</td>\n",
              "      <td>0</td>\n",
              "      <td>1</td>\n",
              "      <td>1600</td>\n",
              "    </tr>\n",
              "    <tr>\n",
              "      <th>10667</th>\n",
              "      <td>Belo Horizonte</td>\n",
              "      <td>75</td>\n",
              "      <td>2</td>\n",
              "      <td>1</td>\n",
              "      <td>1</td>\n",
              "      <td>3</td>\n",
              "      <td>0</td>\n",
              "      <td>0</td>\n",
              "      <td>1250</td>\n",
              "    </tr>\n",
              "    <tr>\n",
              "      <th>10670</th>\n",
              "      <td>São Paulo</td>\n",
              "      <td>165</td>\n",
              "      <td>3</td>\n",
              "      <td>3</td>\n",
              "      <td>2</td>\n",
              "      <td>2</td>\n",
              "      <td>1</td>\n",
              "      <td>1</td>\n",
              "      <td>2710</td>\n",
              "    </tr>\n",
              "    <tr>\n",
              "      <th>10682</th>\n",
              "      <td>Porto Alegre</td>\n",
              "      <td>160</td>\n",
              "      <td>3</td>\n",
              "      <td>2</td>\n",
              "      <td>3</td>\n",
              "      <td>4</td>\n",
              "      <td>1</td>\n",
              "      <td>1</td>\n",
              "      <td>3300</td>\n",
              "    </tr>\n",
              "    <tr>\n",
              "      <th>10687</th>\n",
              "      <td>Porto Alegre</td>\n",
              "      <td>63</td>\n",
              "      <td>2</td>\n",
              "      <td>1</td>\n",
              "      <td>1</td>\n",
              "      <td>5</td>\n",
              "      <td>0</td>\n",
              "      <td>1</td>\n",
              "      <td>1478</td>\n",
              "    </tr>\n",
              "  </tbody>\n",
              "</table>\n",
              "</div>"
            ],
            "text/plain": [
              "                 city  area  rooms  ...  animal  furniture  rent amount (R$)\n",
              "10665  Belo Horizonte    55      2  ...       0          1              1600\n",
              "10667  Belo Horizonte    75      2  ...       0          0              1250\n",
              "10670       São Paulo   165      3  ...       1          1              2710\n",
              "10682    Porto Alegre   160      3  ...       1          1              3300\n",
              "10687    Porto Alegre    63      2  ...       0          1              1478\n",
              "\n",
              "[5 rows x 9 columns]"
            ]
          },
          "metadata": {},
          "execution_count": 20
        }
      ]
    },
    {
      "cell_type": "code",
      "metadata": {
        "colab": {
          "base_uri": "https://localhost:8080/",
          "height": 282
        },
        "id": "nXRX5rk2kxat",
        "outputId": "8c8a96eb-96f6-47d9-d280-0a403abef917"
      },
      "source": [
        "df1_filtered[\"area\"].plot.box(vert = False, grid = True)"
      ],
      "execution_count": null,
      "outputs": [
        {
          "output_type": "execute_result",
          "data": {
            "text/plain": [
              "<matplotlib.axes._subplots.AxesSubplot at 0x7f4829feee50>"
            ]
          },
          "metadata": {},
          "execution_count": 21
        },
        {
          "output_type": "display_data",
          "data": {
            "image/png": "[encoded data removed]",
            "text/plain": [
              "<Figure size 432x288 with 1 Axes>"
            ]
          },
          "metadata": {
            "needs_background": "light"
          }
        }
      ]
    },
    {
      "cell_type": "code",
      "metadata": {
        "id": "BQbL_HZM3x8w"
      },
      "source": [
        "df1_filtered[\"area\"].plot.box(vert = False, grid = True)"
      ],
      "execution_count": null,
      "outputs": []
    },
    {
      "cell_type": "code",
      "metadata": {
        "colab": {
          "base_uri": "https://localhost:8080/",
          "height": 282
        },
        "id": "uAFQVGygkoPi",
        "outputId": "6b8dfc17-1b77-4839-b7c0-e5dfda2d1e33"
      },
      "source": [
        "df1_filtered[\"floor\"].plot.box(vert = False, grid = True)"
      ],
      "execution_count": null,
      "outputs": [
        {
          "output_type": "execute_result",
          "data": {
            "text/plain": [
              "<matplotlib.axes._subplots.AxesSubplot at 0x7f4829f759d0>"
            ]
          },
          "metadata": {},
          "execution_count": 22
        },
        {
          "output_type": "display_data",
          "data": {
            "image/png": "[encoded data removed]",
            "text/plain": [
              "<Figure size 432x288 with 1 Axes>"
            ]
          },
          "metadata": {
            "needs_background": "light"
          }
        }
      ]
    },
    {
      "cell_type": "code",
      "metadata": {
        "colab": {
          "base_uri": "https://localhost:8080/",
          "height": 282
        },
        "id": "B5MScHy-ksoo",
        "outputId": "ee31dd34-c222-4d08-875c-00ed7c7e2d93"
      },
      "source": [
        "df1_filtered[\"rent amount (R$)\"].plot.box(vert = False, grid = True)"
      ],
      "execution_count": null,
      "outputs": [
        {
          "output_type": "execute_result",
          "data": {
            "text/plain": [
              "<matplotlib.axes._subplots.AxesSubplot at 0x7f4829f5b950>"
            ]
          },
          "metadata": {},
          "execution_count": 23
        },
        {
          "output_type": "display_data",
          "data": {
            "image/png": "[encoded data removed]",
            "text/plain": [
              "<Figure size 432x288 with 1 Axes>"
            ]
          },
          "metadata": {
            "needs_background": "light"
          }
        }
      ]
    },
    {
      "cell_type": "code",
      "metadata": {
        "colab": {
          "base_uri": "https://localhost:8080/",
          "height": 282
        },
        "id": "rNX7zOBLqblW",
        "outputId": "90540afd-550d-4a50-d68b-9a4be37bb309"
      },
      "source": [
        "df1_filtered[['rent amount (R$)']].plot.hist(bins = 20)"
      ],
      "execution_count": null,
      "outputs": [
        {
          "output_type": "execute_result",
          "data": {
            "text/plain": [
              "<matplotlib.axes._subplots.AxesSubplot at 0x7f4829ed4a50>"
            ]
          },
          "metadata": {},
          "execution_count": 24
        },
        {
          "output_type": "display_data",
          "data": {
            "image/png": "[encoded data removed]",
            "text/plain": [
              "<Figure size 432x288 with 1 Axes>"
            ]
          },
          "metadata": {
            "needs_background": "light"
          }
        }
      ]
    },
    {
      "cell_type": "code",
      "metadata": {
        "colab": {
          "base_uri": "https://localhost:8080/",
          "height": 265
        },
        "id": "4WIzQqJf22ZZ",
        "outputId": "0b5f6125-5a82-458e-c076-473a7f9159ff"
      },
      "source": [
        "number_of_city = df1_filtered[\"city\"].value_counts()\n",
        "number_of_city.plot.pie(autopct='%1.1f%%')"
      ],
      "execution_count": null,
      "outputs": [
        {
          "output_type": "execute_result",
          "data": {
            "text/plain": [
              "<matplotlib.axes._subplots.AxesSubplot at 0x7f4829f6c390>"
            ]
          },
          "metadata": {},
          "execution_count": 25
        },
        {
          "output_type": "display_data",
          "data": {
            "image/png": "[encoded data removed]",
            "text/plain": [
              "<Figure size 432x288 with 1 Axes>"
            ]
          },
          "metadata": {}
        }
      ]
    },
    {
      "cell_type": "code",
      "metadata": {
        "colab": {
          "base_uri": "https://localhost:8080/",
          "height": 265
        },
        "id": "WB-4_SMbpFVd",
        "outputId": "c02bea55-2669-4308-c9fe-28a5d5847fd2"
      },
      "source": [
        "percentage_furnished = df1_filtered[\"furniture\"].value_counts()\n",
        "percentage_furnished.plot.pie(autopct='%1.1f%%')"
      ],
      "execution_count": null,
      "outputs": [
        {
          "output_type": "execute_result",
          "data": {
            "text/plain": [
              "<matplotlib.axes._subplots.AxesSubplot at 0x7f4829d6b810>"
            ]
          },
          "metadata": {},
          "execution_count": 26
        },
        {
          "output_type": "display_data",
          "data": {
            "image/png": "[encoded data removed]",
            "text/plain": [
              "<Figure size 432x288 with 1 Axes>"
            ]
          },
          "metadata": {}
        }
      ]
    },
    {
      "cell_type": "code",
      "metadata": {
        "colab": {
          "base_uri": "https://localhost:8080/"
        },
        "id": "GKe3J_B7yglK",
        "outputId": "25b71d76-664b-41a4-f302-5a10ed4ecdf5"
      },
      "source": [
        "df1_filtered.groupby(['city'])['rent amount (R$)'].mean()"
      ],
      "execution_count": null,
      "outputs": [
        {
          "output_type": "execute_result",
          "data": {
            "text/plain": [
              "city\n",
              "Belo Horizonte    1887.530387\n",
              "Campinas          1567.435835\n",
              "Porto Alegre      1781.822404\n",
              "Rio de Janeiro    2311.609533\n",
              "São Paulo         2668.626843\n",
              "Name: rent amount (R$), dtype: float64"
            ]
          },
          "metadata": {},
          "execution_count": 27
        }
      ]
    },
    {
      "cell_type": "code",
      "metadata": {
        "colab": {
          "base_uri": "https://localhost:8080/",
          "height": 298
        },
        "id": "j746wkp8rCxL",
        "outputId": "d6309d40-e073-47b1-9e1e-f95b8014a006"
      },
      "source": [
        "avg = df1_filtered.groupby(['city'])['rent amount (R$)'].mean()\n",
        "avg.plot.barh(title='Average Rent Price for Each City')"
      ],
      "execution_count": null,
      "outputs": [
        {
          "output_type": "execute_result",
          "data": {
            "text/plain": [
              "<matplotlib.axes._subplots.AxesSubplot at 0x7f4829d3bad0>"
            ]
          },
          "metadata": {},
          "execution_count": 28
        },
        {
          "output_type": "display_data",
          "data": {
            "image/png": "[encoded data removed]",
            "text/plain": [
              "<Figure size 432x288 with 1 Axes>"
            ]
          },
          "metadata": {
            "needs_background": "light"
          }
        }
      ]
    },
    {
      "cell_type": "code",
      "metadata": {
        "id": "BWilAZAUsNO6",
        "colab": {
          "base_uri": "https://localhost:8080/"
        },
        "outputId": "4d669b55-d9e8-4c46-fa5c-47b37ac391ba"
      },
      "source": [
        "furniture = df1_filtered.groupby(['furniture'])['rent amount (R$)'].count()\n",
        "furniture"
      ],
      "execution_count": null,
      "outputs": [
        {
          "output_type": "execute_result",
          "data": {
            "text/plain": [
              "furniture\n",
              "0    3487\n",
              "1    1154\n",
              "Name: rent amount (R$), dtype: int64"
            ]
          },
          "metadata": {},
          "execution_count": 29
        }
      ]
    },
    {
      "cell_type": "code",
      "metadata": {
        "colab": {
          "base_uri": "https://localhost:8080/",
          "height": 237
        },
        "id": "x9yndpBV1t8W",
        "outputId": "072da432-a70c-4b20-8e9b-327d60ec04b4"
      },
      "source": [
        "corr = df1_filtered.corr()\n",
        "corr.style.background_gradient(cmap='coolwarm').set_precision(2)"
      ],
      "execution_count": null,
      "outputs": [
        {
          "output_type": "execute_result",
          "data": {
            "text/html": [
              "<style  type=\"text/css\" >\n",
              "#T_6b748728_5690_11ec_a90e_0242ac1c0002row0_col0,#T_6b748728_5690_11ec_a90e_0242ac1c0002row1_col1,#T_6b748728_5690_11ec_a90e_0242ac1c0002row2_col2,#T_6b748728_5690_11ec_a90e_0242ac1c0002row3_col3,#T_6b748728_5690_11ec_a90e_0242ac1c0002row4_col4,#T_6b748728_5690_11ec_a90e_0242ac1c0002row5_col5{\n",
              "            background-color:  #b40426;\n",
              "            color:  #f1f1f1;\n",
              "        }#T_6b748728_5690_11ec_a90e_0242ac1c0002row0_col1{\n",
              "            background-color:  #f39577;\n",
              "            color:  #000000;\n",
              "        }#T_6b748728_5690_11ec_a90e_0242ac1c0002row0_col2{\n",
              "            background-color:  #f7bca1;\n",
              "            color:  #000000;\n",
              "        }#T_6b748728_5690_11ec_a90e_0242ac1c0002row0_col3{\n",
              "            background-color:  #d4dbe6;\n",
              "            color:  #000000;\n",
              "        }#T_6b748728_5690_11ec_a90e_0242ac1c0002row0_col4{\n",
              "            background-color:  #445acc;\n",
              "            color:  #f1f1f1;\n",
              "        }#T_6b748728_5690_11ec_a90e_0242ac1c0002row0_col5{\n",
              "            background-color:  #aec9fc;\n",
              "            color:  #000000;\n",
              "        }#T_6b748728_5690_11ec_a90e_0242ac1c0002row1_col0{\n",
              "            background-color:  #f4987a;\n",
              "            color:  #000000;\n",
              "        }#T_6b748728_5690_11ec_a90e_0242ac1c0002row1_col2{\n",
              "            background-color:  #eed0c0;\n",
              "            color:  #000000;\n",
              "        }#T_6b748728_5690_11ec_a90e_0242ac1c0002row1_col3{\n",
              "            background-color:  #cdd9ec;\n",
              "            color:  #000000;\n",
              "        }#T_6b748728_5690_11ec_a90e_0242ac1c0002row1_col4,#T_6b748728_5690_11ec_a90e_0242ac1c0002row4_col0,#T_6b748728_5690_11ec_a90e_0242ac1c0002row4_col1,#T_6b748728_5690_11ec_a90e_0242ac1c0002row4_col2,#T_6b748728_5690_11ec_a90e_0242ac1c0002row4_col3,#T_6b748728_5690_11ec_a90e_0242ac1c0002row4_col5{\n",
              "            background-color:  #3b4cc0;\n",
              "            color:  #f1f1f1;\n",
              "        }#T_6b748728_5690_11ec_a90e_0242ac1c0002row1_col5{\n",
              "            background-color:  #6384eb;\n",
              "            color:  #000000;\n",
              "        }#T_6b748728_5690_11ec_a90e_0242ac1c0002row2_col0{\n",
              "            background-color:  #f7b599;\n",
              "            color:  #000000;\n",
              "        }#T_6b748728_5690_11ec_a90e_0242ac1c0002row2_col1{\n",
              "            background-color:  #f3c7b1;\n",
              "            color:  #000000;\n",
              "        }#T_6b748728_5690_11ec_a90e_0242ac1c0002row2_col3{\n",
              "            background-color:  #e3d9d3;\n",
              "            color:  #000000;\n",
              "        }#T_6b748728_5690_11ec_a90e_0242ac1c0002row2_col4{\n",
              "            background-color:  #5673e0;\n",
              "            color:  #000000;\n",
              "        }#T_6b748728_5690_11ec_a90e_0242ac1c0002row2_col5{\n",
              "            background-color:  #a3c2fe;\n",
              "            color:  #000000;\n",
              "        }#T_6b748728_5690_11ec_a90e_0242ac1c0002row3_col0{\n",
              "            background-color:  #dfdbd9;\n",
              "            color:  #000000;\n",
              "        }#T_6b748728_5690_11ec_a90e_0242ac1c0002row3_col1{\n",
              "            background-color:  #dedcdb;\n",
              "            color:  #000000;\n",
              "        }#T_6b748728_5690_11ec_a90e_0242ac1c0002row3_col2{\n",
              "            background-color:  #e5d8d1;\n",
              "            color:  #000000;\n",
              "        }#T_6b748728_5690_11ec_a90e_0242ac1c0002row3_col4{\n",
              "            background-color:  #5d7ce6;\n",
              "            color:  #000000;\n",
              "        }#T_6b748728_5690_11ec_a90e_0242ac1c0002row3_col5{\n",
              "            background-color:  #7ea1fa;\n",
              "            color:  #000000;\n",
              "        }#T_6b748728_5690_11ec_a90e_0242ac1c0002row5_col0{\n",
              "            background-color:  #d3dbe7;\n",
              "            color:  #000000;\n",
              "        }#T_6b748728_5690_11ec_a90e_0242ac1c0002row5_col1{\n",
              "            background-color:  #a1c0ff;\n",
              "            color:  #000000;\n",
              "        }#T_6b748728_5690_11ec_a90e_0242ac1c0002row5_col2{\n",
              "            background-color:  #c0d4f5;\n",
              "            color:  #000000;\n",
              "        }#T_6b748728_5690_11ec_a90e_0242ac1c0002row5_col3{\n",
              "            background-color:  #9bbcff;\n",
              "            color:  #000000;\n",
              "        }#T_6b748728_5690_11ec_a90e_0242ac1c0002row5_col4{\n",
              "            background-color:  #7da0f9;\n",
              "            color:  #000000;\n",
              "        }</style><table id=\"T_6b748728_5690_11ec_a90e_0242ac1c0002\" class=\"dataframe\"><thead>    <tr>        <th class=\"blank level0\" ></th>        <th class=\"col_heading level0 col0\" >area</th>        <th class=\"col_heading level0 col1\" >rooms</th>        <th class=\"col_heading level0 col2\" >bathroom</th>        <th class=\"col_heading level0 col3\" >parking spaces</th>        <th class=\"col_heading level0 col4\" >floor</th>        <th class=\"col_heading level0 col5\" >rent amount (R$)</th>    </tr></thead><tbody>\n",
              "                <tr>\n",
              "                        <th id=\"T_6b748728_5690_11ec_a90e_0242ac1c0002level0_row0\" class=\"row_heading level0 row0\" >area</th>\n",
              "                        <td id=\"T_6b748728_5690_11ec_a90e_0242ac1c0002row0_col0\" class=\"data row0 col0\" >1.00</td>\n",
              "                        <td id=\"T_6b748728_5690_11ec_a90e_0242ac1c0002row0_col1\" class=\"data row0 col1\" >0.75</td>\n",
              "                        <td id=\"T_6b748728_5690_11ec_a90e_0242ac1c0002row0_col2\" class=\"data row0 col2\" >0.68</td>\n",
              "                        <td id=\"T_6b748728_5690_11ec_a90e_0242ac1c0002row0_col3\" class=\"data row0 col3\" >0.51</td>\n",
              "                        <td id=\"T_6b748728_5690_11ec_a90e_0242ac1c0002row0_col4\" class=\"data row0 col4\" >0.01</td>\n",
              "                        <td id=\"T_6b748728_5690_11ec_a90e_0242ac1c0002row0_col5\" class=\"data row0 col5\" >0.47</td>\n",
              "            </tr>\n",
              "            <tr>\n",
              "                        <th id=\"T_6b748728_5690_11ec_a90e_0242ac1c0002level0_row1\" class=\"row_heading level0 row1\" >rooms</th>\n",
              "                        <td id=\"T_6b748728_5690_11ec_a90e_0242ac1c0002row1_col0\" class=\"data row1 col0\" >0.75</td>\n",
              "                        <td id=\"T_6b748728_5690_11ec_a90e_0242ac1c0002row1_col1\" class=\"data row1 col1\" >1.00</td>\n",
              "                        <td id=\"T_6b748728_5690_11ec_a90e_0242ac1c0002row1_col2\" class=\"data row1 col2\" >0.61</td>\n",
              "                        <td id=\"T_6b748728_5690_11ec_a90e_0242ac1c0002row1_col3\" class=\"data row1 col3\" >0.49</td>\n",
              "                        <td id=\"T_6b748728_5690_11ec_a90e_0242ac1c0002row1_col4\" class=\"data row1 col4\" >-0.03</td>\n",
              "                        <td id=\"T_6b748728_5690_11ec_a90e_0242ac1c0002row1_col5\" class=\"data row1 col5\" >0.29</td>\n",
              "            </tr>\n",
              "            <tr>\n",
              "                        <th id=\"T_6b748728_5690_11ec_a90e_0242ac1c0002level0_row2\" class=\"row_heading level0 row2\" >bathroom</th>\n",
              "                        <td id=\"T_6b748728_5690_11ec_a90e_0242ac1c0002row2_col0\" class=\"data row2 col0\" >0.68</td>\n",
              "                        <td id=\"T_6b748728_5690_11ec_a90e_0242ac1c0002row2_col1\" class=\"data row2 col1\" >0.61</td>\n",
              "                        <td id=\"T_6b748728_5690_11ec_a90e_0242ac1c0002row2_col2\" class=\"data row2 col2\" >1.00</td>\n",
              "                        <td id=\"T_6b748728_5690_11ec_a90e_0242ac1c0002row2_col3\" class=\"data row2 col3\" >0.57</td>\n",
              "                        <td id=\"T_6b748728_5690_11ec_a90e_0242ac1c0002row2_col4\" class=\"data row2 col4\" >0.07</td>\n",
              "                        <td id=\"T_6b748728_5690_11ec_a90e_0242ac1c0002row2_col5\" class=\"data row2 col5\" >0.44</td>\n",
              "            </tr>\n",
              "            <tr>\n",
              "                        <th id=\"T_6b748728_5690_11ec_a90e_0242ac1c0002level0_row3\" class=\"row_heading level0 row3\" >parking spaces</th>\n",
              "                        <td id=\"T_6b748728_5690_11ec_a90e_0242ac1c0002row3_col0\" class=\"data row3 col0\" >0.51</td>\n",
              "                        <td id=\"T_6b748728_5690_11ec_a90e_0242ac1c0002row3_col1\" class=\"data row3 col1\" >0.49</td>\n",
              "                        <td id=\"T_6b748728_5690_11ec_a90e_0242ac1c0002row3_col2\" class=\"data row3 col2\" >0.57</td>\n",
              "                        <td id=\"T_6b748728_5690_11ec_a90e_0242ac1c0002row3_col3\" class=\"data row3 col3\" >1.00</td>\n",
              "                        <td id=\"T_6b748728_5690_11ec_a90e_0242ac1c0002row3_col4\" class=\"data row3 col4\" >0.09</td>\n",
              "                        <td id=\"T_6b748728_5690_11ec_a90e_0242ac1c0002row3_col5\" class=\"data row3 col5\" >0.35</td>\n",
              "            </tr>\n",
              "            <tr>\n",
              "                        <th id=\"T_6b748728_5690_11ec_a90e_0242ac1c0002level0_row4\" class=\"row_heading level0 row4\" >floor</th>\n",
              "                        <td id=\"T_6b748728_5690_11ec_a90e_0242ac1c0002row4_col0\" class=\"data row4 col0\" >0.01</td>\n",
              "                        <td id=\"T_6b748728_5690_11ec_a90e_0242ac1c0002row4_col1\" class=\"data row4 col1\" >-0.03</td>\n",
              "                        <td id=\"T_6b748728_5690_11ec_a90e_0242ac1c0002row4_col2\" class=\"data row4 col2\" >0.07</td>\n",
              "                        <td id=\"T_6b748728_5690_11ec_a90e_0242ac1c0002row4_col3\" class=\"data row4 col3\" >0.09</td>\n",
              "                        <td id=\"T_6b748728_5690_11ec_a90e_0242ac1c0002row4_col4\" class=\"data row4 col4\" >1.00</td>\n",
              "                        <td id=\"T_6b748728_5690_11ec_a90e_0242ac1c0002row4_col5\" class=\"data row4 col5\" >0.18</td>\n",
              "            </tr>\n",
              "            <tr>\n",
              "                        <th id=\"T_6b748728_5690_11ec_a90e_0242ac1c0002level0_row5\" class=\"row_heading level0 row5\" >rent amount (R$)</th>\n",
              "                        <td id=\"T_6b748728_5690_11ec_a90e_0242ac1c0002row5_col0\" class=\"data row5 col0\" >0.47</td>\n",
              "                        <td id=\"T_6b748728_5690_11ec_a90e_0242ac1c0002row5_col1\" class=\"data row5 col1\" >0.29</td>\n",
              "                        <td id=\"T_6b748728_5690_11ec_a90e_0242ac1c0002row5_col2\" class=\"data row5 col2\" >0.44</td>\n",
              "                        <td id=\"T_6b748728_5690_11ec_a90e_0242ac1c0002row5_col3\" class=\"data row5 col3\" >0.35</td>\n",
              "                        <td id=\"T_6b748728_5690_11ec_a90e_0242ac1c0002row5_col4\" class=\"data row5 col4\" >0.18</td>\n",
              "                        <td id=\"T_6b748728_5690_11ec_a90e_0242ac1c0002row5_col5\" class=\"data row5 col5\" >1.00</td>\n",
              "            </tr>\n",
              "    </tbody></table>"
            ],
            "text/plain": [
              "<pandas.io.formats.style.Styler at 0x7f4829d0c510>"
            ]
          },
          "metadata": {},
          "execution_count": 30
        }
      ]
    },
    {
      "cell_type": "code",
      "metadata": {
        "colab": {
          "base_uri": "https://localhost:8080/",
          "height": 743
        },
        "id": "uZOC9B37q7re",
        "outputId": "b001de84-f077-4bd8-e117-7b9b79e423af"
      },
      "source": [
        "df1_filtered_1 = df1_filtered [['area','rooms','bathroom','parking spaces','rent amount (R$)']]\n",
        "\n",
        "import seaborn as sns\n",
        "sns.pairplot(df1_filtered_1, hue='rent amount (R$)')"
      ],
      "execution_count": null,
      "outputs": [
        {
          "output_type": "execute_result",
          "data": {
            "text/plain": [
              "<seaborn.axisgrid.PairGrid at 0x7f4829714e90>"
            ]
          },
          "metadata": {},
          "execution_count": 31
        },
        {
          "output_type": "display_data",
          "data": {
            "image/png": "[encoded data removed]",
            "text/plain": [
              "<Figure size 814x720 with 20 Axes>"
            ]
          },
          "metadata": {
            "needs_background": "light"
          }
        }
      ]
    },
    {
      "cell_type": "markdown",
      "metadata": {
        "id": "QemCy0vEYVFg"
      },
      "source": [
        "# Machine Learning"
      ]
    },
    {
      "cell_type": "code",
      "metadata": {
        "id": "G8qOkuSDYYOv"
      },
      "source": [
        "#IMPORT PACKAGE\n",
        "import pandas as pd\n",
        "import numpy as np\n",
        "from sklearn.preprocessing import LabelEncoder\n",
        "from sklearn.model_selection import train_test_split\n",
        "from sklearn.ensemble import RandomForestRegressor\n",
        "from sklearn.datasets import make_regression"
      ],
      "execution_count": null,
      "outputs": []
    },
    {
      "cell_type": "code",
      "metadata": {
        "id": "71dL652SY-q_"
      },
      "source": [
        "predictors = ['city', 'area', 'rooms', 'bathroom', 'parking spaces', 'floor', 'animal', 'furniture']\n",
        "label = 'rent amount (R$)'"
      ],
      "execution_count": null,
      "outputs": []
    },
    {
      "cell_type": "code",
      "metadata": {
        "colab": {
          "base_uri": "https://localhost:8080/"
        },
        "id": "KNMm0KPbZ3cA",
        "outputId": "4a12b200-fb89-473d-e0ab-8e5906ea0599"
      },
      "source": [
        "#Label Encoder\n",
        "le = dict()\n",
        "for column in df1_filtered.columns:\n",
        "  if df1_filtered[column].dtype == np.object:\n",
        "    le[column] = LabelEncoder()\n",
        "    df1_filtered[column] = le[column].fit_transform(df1_filtered[column])"
      ],
      "execution_count": null,
      "outputs": [
        {
          "output_type": "stream",
          "name": "stderr",
          "text": [
            "/usr/local/lib/python3.7/dist-packages/ipykernel_launcher.py:6: SettingWithCopyWarning: \n",
            "A value is trying to be set on a copy of a slice from a DataFrame.\n",
            "Try using .loc[row_indexer,col_indexer] = value instead\n",
            "\n",
            "See the caveats in the documentation: https://pandas.pydata.org/pandas-docs/stable/user_guide/indexing.html#returning-a-view-versus-a-copy\n",
            "  \n"
          ]
        }
      ]
    },
    {
      "cell_type": "code",
      "metadata": {
        "colab": {
          "base_uri": "https://localhost:8080/",
          "height": 331
        },
        "id": "jCq2CjXT5SG8",
        "outputId": "5a1f3d3f-34fb-42ab-8e55-312fbd96d104"
      },
      "source": [
        "corr_new = df1_filtered.corr()\n",
        "corr_new.style.background_gradient(cmap='coolwarm').set_precision(2)"
      ],
      "execution_count": null,
      "outputs": [
        {
          "output_type": "execute_result",
          "data": {
            "text/html": [
              "<style  type=\"text/css\" >\n",
              "#T_814b629c_5690_11ec_a90e_0242ac1c0002row0_col0,#T_814b629c_5690_11ec_a90e_0242ac1c0002row1_col1,#T_814b629c_5690_11ec_a90e_0242ac1c0002row2_col2,#T_814b629c_5690_11ec_a90e_0242ac1c0002row3_col3,#T_814b629c_5690_11ec_a90e_0242ac1c0002row4_col4,#T_814b629c_5690_11ec_a90e_0242ac1c0002row5_col5,#T_814b629c_5690_11ec_a90e_0242ac1c0002row6_col6,#T_814b629c_5690_11ec_a90e_0242ac1c0002row7_col7,#T_814b629c_5690_11ec_a90e_0242ac1c0002row8_col8{\n",
              "            background-color:  #b40426;\n",
              "            color:  #f1f1f1;\n",
              "        }#T_814b629c_5690_11ec_a90e_0242ac1c0002row0_col1,#T_814b629c_5690_11ec_a90e_0242ac1c0002row0_col3{\n",
              "            background-color:  #4a63d3;\n",
              "            color:  #f1f1f1;\n",
              "        }#T_814b629c_5690_11ec_a90e_0242ac1c0002row0_col2{\n",
              "            background-color:  #485fd1;\n",
              "            color:  #f1f1f1;\n",
              "        }#T_814b629c_5690_11ec_a90e_0242ac1c0002row0_col4,#T_814b629c_5690_11ec_a90e_0242ac1c0002row2_col0,#T_814b629c_5690_11ec_a90e_0242ac1c0002row2_col5,#T_814b629c_5690_11ec_a90e_0242ac1c0002row2_col7,#T_814b629c_5690_11ec_a90e_0242ac1c0002row6_col5,#T_814b629c_5690_11ec_a90e_0242ac1c0002row6_col8,#T_814b629c_5690_11ec_a90e_0242ac1c0002row7_col1,#T_814b629c_5690_11ec_a90e_0242ac1c0002row7_col2,#T_814b629c_5690_11ec_a90e_0242ac1c0002row7_col3,#T_814b629c_5690_11ec_a90e_0242ac1c0002row7_col4,#T_814b629c_5690_11ec_a90e_0242ac1c0002row7_col6{\n",
              "            background-color:  #3b4cc0;\n",
              "            color:  #f1f1f1;\n",
              "        }#T_814b629c_5690_11ec_a90e_0242ac1c0002row0_col5{\n",
              "            background-color:  #81a4fb;\n",
              "            color:  #000000;\n",
              "        }#T_814b629c_5690_11ec_a90e_0242ac1c0002row0_col6,#T_814b629c_5690_11ec_a90e_0242ac1c0002row4_col5{\n",
              "            background-color:  #5d7ce6;\n",
              "            color:  #000000;\n",
              "        }#T_814b629c_5690_11ec_a90e_0242ac1c0002row0_col7{\n",
              "            background-color:  #93b5fe;\n",
              "            color:  #000000;\n",
              "        }#T_814b629c_5690_11ec_a90e_0242ac1c0002row0_col8{\n",
              "            background-color:  #abc8fd;\n",
              "            color:  #000000;\n",
              "        }#T_814b629c_5690_11ec_a90e_0242ac1c0002row1_col0{\n",
              "            background-color:  #4f69d9;\n",
              "            color:  #000000;\n",
              "        }#T_814b629c_5690_11ec_a90e_0242ac1c0002row1_col2{\n",
              "            background-color:  #ef886b;\n",
              "            color:  #000000;\n",
              "        }#T_814b629c_5690_11ec_a90e_0242ac1c0002row1_col3{\n",
              "            background-color:  #f7af91;\n",
              "            color:  #000000;\n",
              "        }#T_814b629c_5690_11ec_a90e_0242ac1c0002row1_col4{\n",
              "            background-color:  #e7d7ce;\n",
              "            color:  #000000;\n",
              "        }#T_814b629c_5690_11ec_a90e_0242ac1c0002row1_col5{\n",
              "            background-color:  #445acc;\n",
              "            color:  #f1f1f1;\n",
              "        }#T_814b629c_5690_11ec_a90e_0242ac1c0002row1_col6,#T_814b629c_5690_11ec_a90e_0242ac1c0002row5_col8{\n",
              "            background-color:  #80a3fa;\n",
              "            color:  #000000;\n",
              "        }#T_814b629c_5690_11ec_a90e_0242ac1c0002row1_col7{\n",
              "            background-color:  #4c66d6;\n",
              "            color:  #000000;\n",
              "        }#T_814b629c_5690_11ec_a90e_0242ac1c0002row1_col8{\n",
              "            background-color:  #d9dce1;\n",
              "            color:  #000000;\n",
              "        }#T_814b629c_5690_11ec_a90e_0242ac1c0002row2_col1{\n",
              "            background-color:  #f18d6f;\n",
              "            color:  #000000;\n",
              "        }#T_814b629c_5690_11ec_a90e_0242ac1c0002row2_col3{\n",
              "            background-color:  #f5c4ac;\n",
              "            color:  #000000;\n",
              "        }#T_814b629c_5690_11ec_a90e_0242ac1c0002row2_col4{\n",
              "            background-color:  #e2dad5;\n",
              "            color:  #000000;\n",
              "        }#T_814b629c_5690_11ec_a90e_0242ac1c0002row2_col6,#T_814b629c_5690_11ec_a90e_0242ac1c0002row7_col0{\n",
              "            background-color:  #86a9fc;\n",
              "            color:  #000000;\n",
              "        }#T_814b629c_5690_11ec_a90e_0242ac1c0002row2_col8{\n",
              "            background-color:  #a3c2fe;\n",
              "            color:  #000000;\n",
              "        }#T_814b629c_5690_11ec_a90e_0242ac1c0002row3_col0{\n",
              "            background-color:  #5b7ae5;\n",
              "            color:  #000000;\n",
              "        }#T_814b629c_5690_11ec_a90e_0242ac1c0002row3_col1{\n",
              "            background-color:  #f7a98b;\n",
              "            color:  #000000;\n",
              "        }#T_814b629c_5690_11ec_a90e_0242ac1c0002row3_col2{\n",
              "            background-color:  #f7b89c;\n",
              "            color:  #000000;\n",
              "        }#T_814b629c_5690_11ec_a90e_0242ac1c0002row3_col4{\n",
              "            background-color:  #f1cdba;\n",
              "            color:  #000000;\n",
              "        }#T_814b629c_5690_11ec_a90e_0242ac1c0002row3_col5{\n",
              "            background-color:  #5673e0;\n",
              "            color:  #000000;\n",
              "        }#T_814b629c_5690_11ec_a90e_0242ac1c0002row3_col6{\n",
              "            background-color:  #7295f4;\n",
              "            color:  #000000;\n",
              "        }#T_814b629c_5690_11ec_a90e_0242ac1c0002row3_col7,#T_814b629c_5690_11ec_a90e_0242ac1c0002row4_col7,#T_814b629c_5690_11ec_a90e_0242ac1c0002row5_col1{\n",
              "            background-color:  #5a78e4;\n",
              "            color:  #000000;\n",
              "        }#T_814b629c_5690_11ec_a90e_0242ac1c0002row3_col8{\n",
              "            background-color:  #d2dbe8;\n",
              "            color:  #000000;\n",
              "        }#T_814b629c_5690_11ec_a90e_0242ac1c0002row4_col0{\n",
              "            background-color:  #4b64d5;\n",
              "            color:  #f1f1f1;\n",
              "        }#T_814b629c_5690_11ec_a90e_0242ac1c0002row4_col1{\n",
              "            background-color:  #ebd3c6;\n",
              "            color:  #000000;\n",
              "        }#T_814b629c_5690_11ec_a90e_0242ac1c0002row4_col2{\n",
              "            background-color:  #edd1c2;\n",
              "            color:  #000000;\n",
              "        }#T_814b629c_5690_11ec_a90e_0242ac1c0002row4_col3{\n",
              "            background-color:  #f0cdbb;\n",
              "            color:  #000000;\n",
              "        }#T_814b629c_5690_11ec_a90e_0242ac1c0002row4_col6{\n",
              "            background-color:  #7597f6;\n",
              "            color:  #000000;\n",
              "        }#T_814b629c_5690_11ec_a90e_0242ac1c0002row4_col8{\n",
              "            background-color:  #b9d0f9;\n",
              "            color:  #000000;\n",
              "        }#T_814b629c_5690_11ec_a90e_0242ac1c0002row5_col0{\n",
              "            background-color:  #98b9ff;\n",
              "            color:  #000000;\n",
              "        }#T_814b629c_5690_11ec_a90e_0242ac1c0002row5_col2{\n",
              "            background-color:  #6282ea;\n",
              "            color:  #000000;\n",
              "        }#T_814b629c_5690_11ec_a90e_0242ac1c0002row5_col3{\n",
              "            background-color:  #5f7fe8;\n",
              "            color:  #000000;\n",
              "        }#T_814b629c_5690_11ec_a90e_0242ac1c0002row5_col4{\n",
              "            background-color:  #6687ed;\n",
              "            color:  #000000;\n",
              "        }#T_814b629c_5690_11ec_a90e_0242ac1c0002row5_col6{\n",
              "            background-color:  #5875e1;\n",
              "            color:  #000000;\n",
              "        }#T_814b629c_5690_11ec_a90e_0242ac1c0002row5_col7{\n",
              "            background-color:  #85a8fc;\n",
              "            color:  #000000;\n",
              "        }#T_814b629c_5690_11ec_a90e_0242ac1c0002row6_col0{\n",
              "            background-color:  #5977e3;\n",
              "            color:  #000000;\n",
              "        }#T_814b629c_5690_11ec_a90e_0242ac1c0002row6_col1{\n",
              "            background-color:  #799cf8;\n",
              "            color:  #000000;\n",
              "        }#T_814b629c_5690_11ec_a90e_0242ac1c0002row6_col2{\n",
              "            background-color:  #90b2fe;\n",
              "            color:  #000000;\n",
              "        }#T_814b629c_5690_11ec_a90e_0242ac1c0002row6_col3,#T_814b629c_5690_11ec_a90e_0242ac1c0002row7_col5{\n",
              "            background-color:  #5e7de7;\n",
              "            color:  #000000;\n",
              "        }#T_814b629c_5690_11ec_a90e_0242ac1c0002row6_col4{\n",
              "            background-color:  #6180e9;\n",
              "            color:  #000000;\n",
              "        }#T_814b629c_5690_11ec_a90e_0242ac1c0002row6_col7{\n",
              "            background-color:  #455cce;\n",
              "            color:  #f1f1f1;\n",
              "        }#T_814b629c_5690_11ec_a90e_0242ac1c0002row7_col8{\n",
              "            background-color:  #94b6ff;\n",
              "            color:  #000000;\n",
              "        }#T_814b629c_5690_11ec_a90e_0242ac1c0002row8_col0,#T_814b629c_5690_11ec_a90e_0242ac1c0002row8_col4{\n",
              "            background-color:  #bcd2f7;\n",
              "            color:  #000000;\n",
              "        }#T_814b629c_5690_11ec_a90e_0242ac1c0002row8_col1{\n",
              "            background-color:  #e1dad6;\n",
              "            color:  #000000;\n",
              "        }#T_814b629c_5690_11ec_a90e_0242ac1c0002row8_col2{\n",
              "            background-color:  #bfd3f6;\n",
              "            color:  #000000;\n",
              "        }#T_814b629c_5690_11ec_a90e_0242ac1c0002row8_col3{\n",
              "            background-color:  #d5dbe5;\n",
              "            color:  #000000;\n",
              "        }#T_814b629c_5690_11ec_a90e_0242ac1c0002row8_col5{\n",
              "            background-color:  #7da0f9;\n",
              "            color:  #000000;\n",
              "        }#T_814b629c_5690_11ec_a90e_0242ac1c0002row8_col6{\n",
              "            background-color:  #5572df;\n",
              "            color:  #000000;\n",
              "        }#T_814b629c_5690_11ec_a90e_0242ac1c0002row8_col7{\n",
              "            background-color:  #b2ccfb;\n",
              "            color:  #000000;\n",
              "        }</style><table id=\"T_814b629c_5690_11ec_a90e_0242ac1c0002\" class=\"dataframe\"><thead>    <tr>        <th class=\"blank level0\" ></th>        <th class=\"col_heading level0 col0\" >city</th>        <th class=\"col_heading level0 col1\" >area</th>        <th class=\"col_heading level0 col2\" >rooms</th>        <th class=\"col_heading level0 col3\" >bathroom</th>        <th class=\"col_heading level0 col4\" >parking spaces</th>        <th class=\"col_heading level0 col5\" >floor</th>        <th class=\"col_heading level0 col6\" >animal</th>        <th class=\"col_heading level0 col7\" >furniture</th>        <th class=\"col_heading level0 col8\" >rent amount (R$)</th>    </tr></thead><tbody>\n",
              "                <tr>\n",
              "                        <th id=\"T_814b629c_5690_11ec_a90e_0242ac1c0002level0_row0\" class=\"row_heading level0 row0\" >city</th>\n",
              "                        <td id=\"T_814b629c_5690_11ec_a90e_0242ac1c0002row0_col0\" class=\"data row0 col0\" >1.00</td>\n",
              "                        <td id=\"T_814b629c_5690_11ec_a90e_0242ac1c0002row0_col1\" class=\"data row0 col1\" >-0.05</td>\n",
              "                        <td id=\"T_814b629c_5690_11ec_a90e_0242ac1c0002row0_col2\" class=\"data row0 col2\" >-0.12</td>\n",
              "                        <td id=\"T_814b629c_5690_11ec_a90e_0242ac1c0002row0_col3\" class=\"data row0 col3\" >-0.00</td>\n",
              "                        <td id=\"T_814b629c_5690_11ec_a90e_0242ac1c0002row0_col4\" class=\"data row0 col4\" >-0.06</td>\n",
              "                        <td id=\"T_814b629c_5690_11ec_a90e_0242ac1c0002row0_col5\" class=\"data row0 col5\" >0.20</td>\n",
              "                        <td id=\"T_814b629c_5690_11ec_a90e_0242ac1c0002row0_col6\" class=\"data row0 col6\" >-0.01</td>\n",
              "                        <td id=\"T_814b629c_5690_11ec_a90e_0242ac1c0002row0_col7\" class=\"data row0 col7\" >0.14</td>\n",
              "                        <td id=\"T_814b629c_5690_11ec_a90e_0242ac1c0002row0_col8\" class=\"data row0 col8\" >0.31</td>\n",
              "            </tr>\n",
              "            <tr>\n",
              "                        <th id=\"T_814b629c_5690_11ec_a90e_0242ac1c0002level0_row1\" class=\"row_heading level0 row1\" >area</th>\n",
              "                        <td id=\"T_814b629c_5690_11ec_a90e_0242ac1c0002row1_col0\" class=\"data row1 col0\" >-0.05</td>\n",
              "                        <td id=\"T_814b629c_5690_11ec_a90e_0242ac1c0002row1_col1\" class=\"data row1 col1\" >1.00</td>\n",
              "                        <td id=\"T_814b629c_5690_11ec_a90e_0242ac1c0002row1_col2\" class=\"data row1 col2\" >0.75</td>\n",
              "                        <td id=\"T_814b629c_5690_11ec_a90e_0242ac1c0002row1_col3\" class=\"data row1 col3\" >0.68</td>\n",
              "                        <td id=\"T_814b629c_5690_11ec_a90e_0242ac1c0002row1_col4\" class=\"data row1 col4\" >0.51</td>\n",
              "                        <td id=\"T_814b629c_5690_11ec_a90e_0242ac1c0002row1_col5\" class=\"data row1 col5\" >0.01</td>\n",
              "                        <td id=\"T_814b629c_5690_11ec_a90e_0242ac1c0002row1_col6\" class=\"data row1 col6\" >0.11</td>\n",
              "                        <td id=\"T_814b629c_5690_11ec_a90e_0242ac1c0002row1_col7\" class=\"data row1 col7\" >-0.10</td>\n",
              "                        <td id=\"T_814b629c_5690_11ec_a90e_0242ac1c0002row1_col8\" class=\"data row1 col8\" >0.47</td>\n",
              "            </tr>\n",
              "            <tr>\n",
              "                        <th id=\"T_814b629c_5690_11ec_a90e_0242ac1c0002level0_row2\" class=\"row_heading level0 row2\" >rooms</th>\n",
              "                        <td id=\"T_814b629c_5690_11ec_a90e_0242ac1c0002row2_col0\" class=\"data row2 col0\" >-0.12</td>\n",
              "                        <td id=\"T_814b629c_5690_11ec_a90e_0242ac1c0002row2_col1\" class=\"data row2 col1\" >0.75</td>\n",
              "                        <td id=\"T_814b629c_5690_11ec_a90e_0242ac1c0002row2_col2\" class=\"data row2 col2\" >1.00</td>\n",
              "                        <td id=\"T_814b629c_5690_11ec_a90e_0242ac1c0002row2_col3\" class=\"data row2 col3\" >0.61</td>\n",
              "                        <td id=\"T_814b629c_5690_11ec_a90e_0242ac1c0002row2_col4\" class=\"data row2 col4\" >0.49</td>\n",
              "                        <td id=\"T_814b629c_5690_11ec_a90e_0242ac1c0002row2_col5\" class=\"data row2 col5\" >-0.03</td>\n",
              "                        <td id=\"T_814b629c_5690_11ec_a90e_0242ac1c0002row2_col6\" class=\"data row2 col6\" >0.13</td>\n",
              "                        <td id=\"T_814b629c_5690_11ec_a90e_0242ac1c0002row2_col7\" class=\"data row2 col7\" >-0.18</td>\n",
              "                        <td id=\"T_814b629c_5690_11ec_a90e_0242ac1c0002row2_col8\" class=\"data row2 col8\" >0.29</td>\n",
              "            </tr>\n",
              "            <tr>\n",
              "                        <th id=\"T_814b629c_5690_11ec_a90e_0242ac1c0002level0_row3\" class=\"row_heading level0 row3\" >bathroom</th>\n",
              "                        <td id=\"T_814b629c_5690_11ec_a90e_0242ac1c0002row3_col0\" class=\"data row3 col0\" >-0.00</td>\n",
              "                        <td id=\"T_814b629c_5690_11ec_a90e_0242ac1c0002row3_col1\" class=\"data row3 col1\" >0.68</td>\n",
              "                        <td id=\"T_814b629c_5690_11ec_a90e_0242ac1c0002row3_col2\" class=\"data row3 col2\" >0.61</td>\n",
              "                        <td id=\"T_814b629c_5690_11ec_a90e_0242ac1c0002row3_col3\" class=\"data row3 col3\" >1.00</td>\n",
              "                        <td id=\"T_814b629c_5690_11ec_a90e_0242ac1c0002row3_col4\" class=\"data row3 col4\" >0.57</td>\n",
              "                        <td id=\"T_814b629c_5690_11ec_a90e_0242ac1c0002row3_col5\" class=\"data row3 col5\" >0.07</td>\n",
              "                        <td id=\"T_814b629c_5690_11ec_a90e_0242ac1c0002row3_col6\" class=\"data row3 col6\" >0.06</td>\n",
              "                        <td id=\"T_814b629c_5690_11ec_a90e_0242ac1c0002row3_col7\" class=\"data row3 col7\" >-0.06</td>\n",
              "                        <td id=\"T_814b629c_5690_11ec_a90e_0242ac1c0002row3_col8\" class=\"data row3 col8\" >0.44</td>\n",
              "            </tr>\n",
              "            <tr>\n",
              "                        <th id=\"T_814b629c_5690_11ec_a90e_0242ac1c0002level0_row4\" class=\"row_heading level0 row4\" >parking spaces</th>\n",
              "                        <td id=\"T_814b629c_5690_11ec_a90e_0242ac1c0002row4_col0\" class=\"data row4 col0\" >-0.06</td>\n",
              "                        <td id=\"T_814b629c_5690_11ec_a90e_0242ac1c0002row4_col1\" class=\"data row4 col1\" >0.51</td>\n",
              "                        <td id=\"T_814b629c_5690_11ec_a90e_0242ac1c0002row4_col2\" class=\"data row4 col2\" >0.49</td>\n",
              "                        <td id=\"T_814b629c_5690_11ec_a90e_0242ac1c0002row4_col3\" class=\"data row4 col3\" >0.57</td>\n",
              "                        <td id=\"T_814b629c_5690_11ec_a90e_0242ac1c0002row4_col4\" class=\"data row4 col4\" >1.00</td>\n",
              "                        <td id=\"T_814b629c_5690_11ec_a90e_0242ac1c0002row4_col5\" class=\"data row4 col5\" >0.09</td>\n",
              "                        <td id=\"T_814b629c_5690_11ec_a90e_0242ac1c0002row4_col6\" class=\"data row4 col6\" >0.07</td>\n",
              "                        <td id=\"T_814b629c_5690_11ec_a90e_0242ac1c0002row4_col7\" class=\"data row4 col7\" >-0.06</td>\n",
              "                        <td id=\"T_814b629c_5690_11ec_a90e_0242ac1c0002row4_col8\" class=\"data row4 col8\" >0.35</td>\n",
              "            </tr>\n",
              "            <tr>\n",
              "                        <th id=\"T_814b629c_5690_11ec_a90e_0242ac1c0002level0_row5\" class=\"row_heading level0 row5\" >floor</th>\n",
              "                        <td id=\"T_814b629c_5690_11ec_a90e_0242ac1c0002row5_col0\" class=\"data row5 col0\" >0.20</td>\n",
              "                        <td id=\"T_814b629c_5690_11ec_a90e_0242ac1c0002row5_col1\" class=\"data row5 col1\" >0.01</td>\n",
              "                        <td id=\"T_814b629c_5690_11ec_a90e_0242ac1c0002row5_col2\" class=\"data row5 col2\" >-0.03</td>\n",
              "                        <td id=\"T_814b629c_5690_11ec_a90e_0242ac1c0002row5_col3\" class=\"data row5 col3\" >0.07</td>\n",
              "                        <td id=\"T_814b629c_5690_11ec_a90e_0242ac1c0002row5_col4\" class=\"data row5 col4\" >0.09</td>\n",
              "                        <td id=\"T_814b629c_5690_11ec_a90e_0242ac1c0002row5_col5\" class=\"data row5 col5\" >1.00</td>\n",
              "                        <td id=\"T_814b629c_5690_11ec_a90e_0242ac1c0002row5_col6\" class=\"data row5 col6\" >-0.03</td>\n",
              "                        <td id=\"T_814b629c_5690_11ec_a90e_0242ac1c0002row5_col7\" class=\"data row5 col7\" >0.09</td>\n",
              "                        <td id=\"T_814b629c_5690_11ec_a90e_0242ac1c0002row5_col8\" class=\"data row5 col8\" >0.18</td>\n",
              "            </tr>\n",
              "            <tr>\n",
              "                        <th id=\"T_814b629c_5690_11ec_a90e_0242ac1c0002level0_row6\" class=\"row_heading level0 row6\" >animal</th>\n",
              "                        <td id=\"T_814b629c_5690_11ec_a90e_0242ac1c0002row6_col0\" class=\"data row6 col0\" >-0.01</td>\n",
              "                        <td id=\"T_814b629c_5690_11ec_a90e_0242ac1c0002row6_col1\" class=\"data row6 col1\" >0.11</td>\n",
              "                        <td id=\"T_814b629c_5690_11ec_a90e_0242ac1c0002row6_col2\" class=\"data row6 col2\" >0.13</td>\n",
              "                        <td id=\"T_814b629c_5690_11ec_a90e_0242ac1c0002row6_col3\" class=\"data row6 col3\" >0.06</td>\n",
              "                        <td id=\"T_814b629c_5690_11ec_a90e_0242ac1c0002row6_col4\" class=\"data row6 col4\" >0.07</td>\n",
              "                        <td id=\"T_814b629c_5690_11ec_a90e_0242ac1c0002row6_col5\" class=\"data row6 col5\" >-0.03</td>\n",
              "                        <td id=\"T_814b629c_5690_11ec_a90e_0242ac1c0002row6_col6\" class=\"data row6 col6\" >1.00</td>\n",
              "                        <td id=\"T_814b629c_5690_11ec_a90e_0242ac1c0002row6_col7\" class=\"data row6 col7\" >-0.13</td>\n",
              "                        <td id=\"T_814b629c_5690_11ec_a90e_0242ac1c0002row6_col8\" class=\"data row6 col8\" >-0.04</td>\n",
              "            </tr>\n",
              "            <tr>\n",
              "                        <th id=\"T_814b629c_5690_11ec_a90e_0242ac1c0002level0_row7\" class=\"row_heading level0 row7\" >furniture</th>\n",
              "                        <td id=\"T_814b629c_5690_11ec_a90e_0242ac1c0002row7_col0\" class=\"data row7 col0\" >0.14</td>\n",
              "                        <td id=\"T_814b629c_5690_11ec_a90e_0242ac1c0002row7_col1\" class=\"data row7 col1\" >-0.10</td>\n",
              "                        <td id=\"T_814b629c_5690_11ec_a90e_0242ac1c0002row7_col2\" class=\"data row7 col2\" >-0.18</td>\n",
              "                        <td id=\"T_814b629c_5690_11ec_a90e_0242ac1c0002row7_col3\" class=\"data row7 col3\" >-0.06</td>\n",
              "                        <td id=\"T_814b629c_5690_11ec_a90e_0242ac1c0002row7_col4\" class=\"data row7 col4\" >-0.06</td>\n",
              "                        <td id=\"T_814b629c_5690_11ec_a90e_0242ac1c0002row7_col5\" class=\"data row7 col5\" >0.09</td>\n",
              "                        <td id=\"T_814b629c_5690_11ec_a90e_0242ac1c0002row7_col6\" class=\"data row7 col6\" >-0.13</td>\n",
              "                        <td id=\"T_814b629c_5690_11ec_a90e_0242ac1c0002row7_col7\" class=\"data row7 col7\" >1.00</td>\n",
              "                        <td id=\"T_814b629c_5690_11ec_a90e_0242ac1c0002row7_col8\" class=\"data row7 col8\" >0.24</td>\n",
              "            </tr>\n",
              "            <tr>\n",
              "                        <th id=\"T_814b629c_5690_11ec_a90e_0242ac1c0002level0_row8\" class=\"row_heading level0 row8\" >rent amount (R$)</th>\n",
              "                        <td id=\"T_814b629c_5690_11ec_a90e_0242ac1c0002row8_col0\" class=\"data row8 col0\" >0.31</td>\n",
              "                        <td id=\"T_814b629c_5690_11ec_a90e_0242ac1c0002row8_col1\" class=\"data row8 col1\" >0.47</td>\n",
              "                        <td id=\"T_814b629c_5690_11ec_a90e_0242ac1c0002row8_col2\" class=\"data row8 col2\" >0.29</td>\n",
              "                        <td id=\"T_814b629c_5690_11ec_a90e_0242ac1c0002row8_col3\" class=\"data row8 col3\" >0.44</td>\n",
              "                        <td id=\"T_814b629c_5690_11ec_a90e_0242ac1c0002row8_col4\" class=\"data row8 col4\" >0.35</td>\n",
              "                        <td id=\"T_814b629c_5690_11ec_a90e_0242ac1c0002row8_col5\" class=\"data row8 col5\" >0.18</td>\n",
              "                        <td id=\"T_814b629c_5690_11ec_a90e_0242ac1c0002row8_col6\" class=\"data row8 col6\" >-0.04</td>\n",
              "                        <td id=\"T_814b629c_5690_11ec_a90e_0242ac1c0002row8_col7\" class=\"data row8 col7\" >0.24</td>\n",
              "                        <td id=\"T_814b629c_5690_11ec_a90e_0242ac1c0002row8_col8\" class=\"data row8 col8\" >1.00</td>\n",
              "            </tr>\n",
              "    </tbody></table>"
            ],
            "text/plain": [
              "<pandas.io.formats.style.Styler at 0x7f481897a750>"
            ]
          },
          "metadata": {},
          "execution_count": 35
        }
      ]
    },
    {
      "cell_type": "code",
      "metadata": {
        "colab": {
          "base_uri": "https://localhost:8080/",
          "height": 265
        },
        "id": "sLzIx-W17IKN",
        "outputId": "dc130a96-ec5c-4be1-ad50-dfe81569d57f"
      },
      "source": [
        "number_of_encoded_city = df1_filtered[\"city\"].value_counts()\n",
        "number_of_encoded_city.plot.pie(autopct='%1.1f%%')"
      ],
      "execution_count": null,
      "outputs": [
        {
          "output_type": "execute_result",
          "data": {
            "text/plain": [
              "<matplotlib.axes._subplots.AxesSubplot at 0x7f481fe67890>"
            ]
          },
          "metadata": {},
          "execution_count": 36
        },
        {
          "output_type": "display_data",
          "data": {
            "image/png": "[encoded data removed]",
            "text/plain": [
              "<Figure size 432x288 with 1 Axes>"
            ]
          },
          "metadata": {}
        }
      ]
    },
    {
      "cell_type": "code",
      "metadata": {
        "colab": {
          "base_uri": "https://localhost:8080/"
        },
        "id": "IVo0qpAH8J86",
        "outputId": "4c173ab9-77b9-44b7-b069-d678e100facd"
      },
      "source": [
        "df1_filtered.info()"
      ],
      "execution_count": null,
      "outputs": [
        {
          "output_type": "stream",
          "name": "stdout",
          "text": [
            "<class 'pandas.core.frame.DataFrame'>\n",
            "Int64Index: 4641 entries, 0 to 10687\n",
            "Data columns (total 9 columns):\n",
            " #   Column            Non-Null Count  Dtype\n",
            "---  ------            --------------  -----\n",
            " 0   city              4641 non-null   int64\n",
            " 1   area              4641 non-null   int64\n",
            " 2   rooms             4641 non-null   int64\n",
            " 3   bathroom          4641 non-null   int64\n",
            " 4   parking spaces    4641 non-null   int64\n",
            " 5   floor             4641 non-null   int64\n",
            " 6   animal            4641 non-null   int64\n",
            " 7   furniture         4641 non-null   int64\n",
            " 8   rent amount (R$)  4641 non-null   int64\n",
            "dtypes: int64(9)\n",
            "memory usage: 522.6 KB\n"
          ]
        }
      ]
    },
    {
      "cell_type": "code",
      "metadata": {
        "colab": {
          "base_uri": "https://localhost:8080/",
          "height": 300
        },
        "id": "XtY9b02u_wuF",
        "outputId": "eb30dafe-80c9-40d4-dc40-0548af04329f"
      },
      "source": [
        "df1_filtered.describe()"
      ],
      "execution_count": null,
      "outputs": [
        {
          "output_type": "execute_result",
          "data": {
            "text/html": [
              "<div>\n",
              "<style scoped>\n",
              "    .dataframe tbody tr th:only-of-type {\n",
              "        vertical-align: middle;\n",
              "    }\n",
              "\n",
              "    .dataframe tbody tr th {\n",
              "        vertical-align: top;\n",
              "    }\n",
              "\n",
              "    .dataframe thead th {\n",
              "        text-align: right;\n",
              "    }\n",
              "</style>\n",
              "<table border=\"1\" class=\"dataframe\">\n",
              "  <thead>\n",
              "    <tr style=\"text-align: right;\">\n",
              "      <th></th>\n",
              "      <th>city</th>\n",
              "      <th>area</th>\n",
              "      <th>rooms</th>\n",
              "      <th>bathroom</th>\n",
              "      <th>parking spaces</th>\n",
              "      <th>floor</th>\n",
              "      <th>animal</th>\n",
              "      <th>furniture</th>\n",
              "      <th>rent amount (R$)</th>\n",
              "    </tr>\n",
              "  </thead>\n",
              "  <tbody>\n",
              "    <tr>\n",
              "      <th>count</th>\n",
              "      <td>4641.000000</td>\n",
              "      <td>4641.000000</td>\n",
              "      <td>4641.000000</td>\n",
              "      <td>4641.000000</td>\n",
              "      <td>4641.000000</td>\n",
              "      <td>4641.000000</td>\n",
              "      <td>4641.000000</td>\n",
              "      <td>4641.000000</td>\n",
              "      <td>4641.000000</td>\n",
              "    </tr>\n",
              "    <tr>\n",
              "      <th>mean</th>\n",
              "      <td>2.737126</td>\n",
              "      <td>76.856927</td>\n",
              "      <td>2.080371</td>\n",
              "      <td>1.609782</td>\n",
              "      <td>0.970911</td>\n",
              "      <td>5.519716</td>\n",
              "      <td>0.776988</td>\n",
              "      <td>0.248653</td>\n",
              "      <td>2263.522948</td>\n",
              "    </tr>\n",
              "    <tr>\n",
              "      <th>std</th>\n",
              "      <td>1.386301</td>\n",
              "      <td>36.339939</td>\n",
              "      <td>0.860911</td>\n",
              "      <td>0.783218</td>\n",
              "      <td>0.803424</td>\n",
              "      <td>3.004108</td>\n",
              "      <td>0.416311</td>\n",
              "      <td>0.432279</td>\n",
              "      <td>1154.398471</td>\n",
              "    </tr>\n",
              "    <tr>\n",
              "      <th>min</th>\n",
              "      <td>0.000000</td>\n",
              "      <td>13.000000</td>\n",
              "      <td>1.000000</td>\n",
              "      <td>1.000000</td>\n",
              "      <td>0.000000</td>\n",
              "      <td>2.000000</td>\n",
              "      <td>0.000000</td>\n",
              "      <td>0.000000</td>\n",
              "      <td>647.000000</td>\n",
              "    </tr>\n",
              "    <tr>\n",
              "      <th>25%</th>\n",
              "      <td>2.000000</td>\n",
              "      <td>50.000000</td>\n",
              "      <td>1.000000</td>\n",
              "      <td>1.000000</td>\n",
              "      <td>0.000000</td>\n",
              "      <td>3.000000</td>\n",
              "      <td>1.000000</td>\n",
              "      <td>0.000000</td>\n",
              "      <td>1350.000000</td>\n",
              "    </tr>\n",
              "    <tr>\n",
              "      <th>50%</th>\n",
              "      <td>3.000000</td>\n",
              "      <td>70.000000</td>\n",
              "      <td>2.000000</td>\n",
              "      <td>1.000000</td>\n",
              "      <td>1.000000</td>\n",
              "      <td>5.000000</td>\n",
              "      <td>1.000000</td>\n",
              "      <td>0.000000</td>\n",
              "      <td>2000.000000</td>\n",
              "    </tr>\n",
              "    <tr>\n",
              "      <th>75%</th>\n",
              "      <td>4.000000</td>\n",
              "      <td>97.000000</td>\n",
              "      <td>3.000000</td>\n",
              "      <td>2.000000</td>\n",
              "      <td>1.000000</td>\n",
              "      <td>8.000000</td>\n",
              "      <td>1.000000</td>\n",
              "      <td>0.000000</td>\n",
              "      <td>2990.000000</td>\n",
              "    </tr>\n",
              "    <tr>\n",
              "      <th>max</th>\n",
              "      <td>4.000000</td>\n",
              "      <td>181.000000</td>\n",
              "      <td>7.000000</td>\n",
              "      <td>7.000000</td>\n",
              "      <td>5.000000</td>\n",
              "      <td>12.000000</td>\n",
              "      <td>1.000000</td>\n",
              "      <td>1.000000</td>\n",
              "      <td>5990.000000</td>\n",
              "    </tr>\n",
              "  </tbody>\n",
              "</table>\n",
              "</div>"
            ],
            "text/plain": [
              "              city         area  ...    furniture  rent amount (R$)\n",
              "count  4641.000000  4641.000000  ...  4641.000000       4641.000000\n",
              "mean      2.737126    76.856927  ...     0.248653       2263.522948\n",
              "std       1.386301    36.339939  ...     0.432279       1154.398471\n",
              "min       0.000000    13.000000  ...     0.000000        647.000000\n",
              "25%       2.000000    50.000000  ...     0.000000       1350.000000\n",
              "50%       3.000000    70.000000  ...     0.000000       2000.000000\n",
              "75%       4.000000    97.000000  ...     0.000000       2990.000000\n",
              "max       4.000000   181.000000  ...     1.000000       5990.000000\n",
              "\n",
              "[8 rows x 9 columns]"
            ]
          },
          "metadata": {},
          "execution_count": 38
        }
      ]
    },
    {
      "cell_type": "code",
      "metadata": {
        "colab": {
          "base_uri": "https://localhost:8080/",
          "height": 206
        },
        "id": "Xnd0wBHEbSlJ",
        "outputId": "628867b5-0e46-4d69-c2b4-b3bdc7f6225c"
      },
      "source": [
        "df1_filtered.head()"
      ],
      "execution_count": null,
      "outputs": [
        {
          "output_type": "execute_result",
          "data": {
            "text/html": [
              "<div>\n",
              "<style scoped>\n",
              "    .dataframe tbody tr th:only-of-type {\n",
              "        vertical-align: middle;\n",
              "    }\n",
              "\n",
              "    .dataframe tbody tr th {\n",
              "        vertical-align: top;\n",
              "    }\n",
              "\n",
              "    .dataframe thead th {\n",
              "        text-align: right;\n",
              "    }\n",
              "</style>\n",
              "<table border=\"1\" class=\"dataframe\">\n",
              "  <thead>\n",
              "    <tr style=\"text-align: right;\">\n",
              "      <th></th>\n",
              "      <th>city</th>\n",
              "      <th>area</th>\n",
              "      <th>rooms</th>\n",
              "      <th>bathroom</th>\n",
              "      <th>parking spaces</th>\n",
              "      <th>floor</th>\n",
              "      <th>animal</th>\n",
              "      <th>furniture</th>\n",
              "      <th>rent amount (R$)</th>\n",
              "    </tr>\n",
              "  </thead>\n",
              "  <tbody>\n",
              "    <tr>\n",
              "      <th>10665</th>\n",
              "      <td>0</td>\n",
              "      <td>55</td>\n",
              "      <td>2</td>\n",
              "      <td>1</td>\n",
              "      <td>1</td>\n",
              "      <td>2</td>\n",
              "      <td>0</td>\n",
              "      <td>1</td>\n",
              "      <td>1600</td>\n",
              "    </tr>\n",
              "    <tr>\n",
              "      <th>10667</th>\n",
              "      <td>0</td>\n",
              "      <td>75</td>\n",
              "      <td>2</td>\n",
              "      <td>1</td>\n",
              "      <td>1</td>\n",
              "      <td>3</td>\n",
              "      <td>0</td>\n",
              "      <td>0</td>\n",
              "      <td>1250</td>\n",
              "    </tr>\n",
              "    <tr>\n",
              "      <th>10670</th>\n",
              "      <td>4</td>\n",
              "      <td>165</td>\n",
              "      <td>3</td>\n",
              "      <td>3</td>\n",
              "      <td>2</td>\n",
              "      <td>2</td>\n",
              "      <td>1</td>\n",
              "      <td>1</td>\n",
              "      <td>2710</td>\n",
              "    </tr>\n",
              "    <tr>\n",
              "      <th>10682</th>\n",
              "      <td>2</td>\n",
              "      <td>160</td>\n",
              "      <td>3</td>\n",
              "      <td>2</td>\n",
              "      <td>3</td>\n",
              "      <td>4</td>\n",
              "      <td>1</td>\n",
              "      <td>1</td>\n",
              "      <td>3300</td>\n",
              "    </tr>\n",
              "    <tr>\n",
              "      <th>10687</th>\n",
              "      <td>2</td>\n",
              "      <td>63</td>\n",
              "      <td>2</td>\n",
              "      <td>1</td>\n",
              "      <td>1</td>\n",
              "      <td>5</td>\n",
              "      <td>0</td>\n",
              "      <td>1</td>\n",
              "      <td>1478</td>\n",
              "    </tr>\n",
              "  </tbody>\n",
              "</table>\n",
              "</div>"
            ],
            "text/plain": [
              "       city  area  rooms  bathroom  ...  floor  animal  furniture  rent amount (R$)\n",
              "10665     0    55      2         1  ...      2       0          1              1600\n",
              "10667     0    75      2         1  ...      3       0          0              1250\n",
              "10670     4   165      3         3  ...      2       1          1              2710\n",
              "10682     2   160      3         2  ...      4       1          1              3300\n",
              "10687     2    63      2         1  ...      5       0          1              1478\n",
              "\n",
              "[5 rows x 9 columns]"
            ]
          },
          "metadata": {},
          "execution_count": 39
        }
      ]
    },
    {
      "cell_type": "code",
      "metadata": {
        "colab": {
          "base_uri": "https://localhost:8080/"
        },
        "id": "R3nZOC_bbbkv",
        "outputId": "dd2485f9-4c5c-4446-c21b-9f3750c623ec"
      },
      "source": [
        "df_train, df_test, y_train, y_test = train_test_split(df1_filtered[predictors], df1_filtered[label], train_size=0.7, random_state=42)\n",
        "df_train.shape, df_test.shape"
      ],
      "execution_count": null,
      "outputs": [
        {
          "output_type": "execute_result",
          "data": {
            "text/plain": [
              "((3248, 8), (1393, 8))"
            ]
          },
          "metadata": {},
          "execution_count": 40
        }
      ]
    },
    {
      "cell_type": "code",
      "metadata": {
        "colab": {
          "base_uri": "https://localhost:8080/"
        },
        "id": "ktAfNVyyzIdD",
        "outputId": "06cc4e0e-0a22-425f-bf0f-cda8713ad873"
      },
      "source": [
        "#MEMBUAT MODEL TRAIN PARAMETER DEFAULT\n",
        "def evaluatetrain(model, X=df_train, y=y_train):\n",
        "  predictions = model.predict(X=df_train)\n",
        "  errors = abs(predictions - y_train)\n",
        "  mape = 100 * np.mean(errors / y_train)\n",
        "  accuracy = 100 - mape\n",
        "  print('Model Performance Training')\n",
        "  print('Average Error: {:0.4f} degrees.'.format(np.mean(errors)))\n",
        "  print('Accuracy = {:0.2f}%.'.format(accuracy))\n",
        "\n",
        "  return accuracy\n",
        "base_model = RandomForestRegressor(random_state=42)\n",
        "base_model.fit(X=df_train, y=y_train)\n",
        "base_accuracytrain = evaluatetrain(base_model, X=df_train, y=y_train)"
      ],
      "execution_count": null,
      "outputs": [
        {
          "output_type": "stream",
          "name": "stdout",
          "text": [
            "Model Performance Training\n",
            "Average Error: 251.0596 degrees.\n",
            "Accuracy = 87.50%.\n"
          ]
        }
      ]
    },
    {
      "cell_type": "code",
      "metadata": {
        "colab": {
          "base_uri": "https://localhost:8080/"
        },
        "id": "rIDPswta3BII",
        "outputId": "b3df6708-a46e-41cf-f519-332d9c94d0ed"
      },
      "source": [
        "#MEMBUAT MODEL TEST PARAMETER DEFAULT\n",
        "def evaluatetest(model, X=df_test, y=y_test):\n",
        "  predictionstest = model.predict(X=df_test)\n",
        "  errorstest = abs(predictionstest - y_test)\n",
        "  mapetest = 100 * np.mean(errorstest / y_test)\n",
        "  accuracytest = 100 - mapetest\n",
        "  print('Model Performance Testing')\n",
        "  print('Average Error: {:0.4f} degrees.'.format(np.mean(errorstest)))\n",
        "  print('Accuracy = {:0.2f}%.'.format(accuracytest))\n",
        "\n",
        "  return accuracytest\n",
        "\n",
        "base_model = RandomForestRegressor(random_state=42)\n",
        "base_model.fit(X=df_test, y=y_test)\n",
        "base_accuracytest = evaluatetest(base_model, X=df_test, y=y_test)"
      ],
      "execution_count": null,
      "outputs": [
        {
          "output_type": "stream",
          "name": "stdout",
          "text": [
            "Model Performance Testing\n",
            "Average Error: 250.9449 degrees.\n",
            "Accuracy = 87.77%.\n"
          ]
        }
      ]
    },
    {
      "cell_type": "code",
      "metadata": {
        "id": "wbuGkaEG5kX0"
      },
      "source": [
        "from sklearn.model_selection import GridSearchCV\n",
        "param_grid = {\n",
        "    'bootstrap': [True],\n",
        "    'max_features': [3, 'sqrt', 'auto'],\n",
        "    'n_estimators': [10, 50, 75, 100, 200, 300, 1000, 1500]\n",
        "}\n",
        "\n",
        "#param_grid = {\n",
        "#    'bootstrap': [True],\n",
        "#    'max_features': [3, 'sqrt', 'auto'],\n",
        "#    'n_estimators': [int(x) for x in np.linspace(start = 200, stop = 2000, num = 10)],\n",
        "#    'max_depth': [int(x) for x in np.linspace(10, 110, num = 11)]\n",
        "#}\n",
        "\n",
        "rf = RandomForestRegressor()\n",
        "grid_search = GridSearchCV(estimator = rf, param_grid = param_grid,\n",
        "                           cv = 10, n_jobs = -1, verbose = 2)"
      ],
      "execution_count": null,
      "outputs": []
    },
    {
      "cell_type": "code",
      "metadata": {
        "colab": {
          "base_uri": "https://localhost:8080/"
        },
        "id": "yilhaV8x7Xdo",
        "outputId": "040bcf0b-f954-46f8-ee49-bff9640921d3"
      },
      "source": [
        "grid_search.fit(X=df_train, y=y_train)\n",
        "grid_search.best_params_"
      ],
      "execution_count": null,
      "outputs": [
        {
          "output_type": "stream",
          "name": "stdout",
          "text": [
            "Fitting 10 folds for each of 24 candidates, totalling 240 fits\n"
          ]
        },
        {
          "output_type": "stream",
          "name": "stderr",
          "text": [
            "/usr/local/lib/python3.7/dist-packages/joblib/externals/loky/process_executor.py:705: UserWarning: A worker stopped while some jobs were given to the executor. This can be caused by a too short worker timeout or by a memory leak.\n",
            "  \"timeout or by a memory leak.\", UserWarning\n"
          ]
        },
        {
          "output_type": "execute_result",
          "data": {
            "text/plain": [
              "{'bootstrap': True, 'max_features': 'sqrt', 'n_estimators': 200}"
            ]
          },
          "metadata": {},
          "execution_count": 44
        }
      ]
    },
    {
      "cell_type": "code",
      "metadata": {
        "id": "GehOJVcAAWam",
        "colab": {
          "base_uri": "https://localhost:8080/",
          "height": 182
        },
        "outputId": "a3c097cf-9f51-4e55-d041-564f65f7e58f"
      },
      "source": [
        "best_grid = grid_search.best_estimator_\n",
        "grid_accuracy = evaluatetest(best_grid, test_features, test_labels)"
      ],
      "execution_count": null,
      "outputs": [
        {
          "output_type": "error",
          "ename": "NameError",
          "evalue": "ignored",
          "traceback": [
            "\u001b[0;31m---------------------------------------------------------------------------\u001b[0m",
            "\u001b[0;31mNameError\u001b[0m                                 Traceback (most recent call last)",
            "\u001b[0;32m<ipython-input-49-bc1e2f271a22>\u001b[0m in \u001b[0;36m<module>\u001b[0;34m()\u001b[0m\n\u001b[1;32m      1\u001b[0m \u001b[0mbest_grid\u001b[0m \u001b[0;34m=\u001b[0m \u001b[0mgrid_search\u001b[0m\u001b[0;34m.\u001b[0m\u001b[0mbest_estimator_\u001b[0m\u001b[0;34m\u001b[0m\u001b[0;34m\u001b[0m\u001b[0m\n\u001b[0;32m----> 2\u001b[0;31m \u001b[0mgrid_accuracy\u001b[0m \u001b[0;34m=\u001b[0m \u001b[0mevaluatetest\u001b[0m\u001b[0;34m(\u001b[0m\u001b[0mbest_grid\u001b[0m\u001b[0;34m,\u001b[0m \u001b[0mtest_features\u001b[0m\u001b[0;34m,\u001b[0m \u001b[0mtest_labels\u001b[0m\u001b[0;34m)\u001b[0m\u001b[0;34m\u001b[0m\u001b[0;34m\u001b[0m\u001b[0m\n\u001b[0m",
            "\u001b[0;31mNameError\u001b[0m: name 'test_features' is not defined"
          ]
        }
      ]
    },
    {
      "cell_type": "code",
      "metadata": {
        "id": "Z0pQLfxbAn05",
        "colab": {
          "base_uri": "https://localhost:8080/"
        },
        "outputId": "38672e4d-8dd3-4e6e-939f-797681aaf110"
      },
      "source": [
        "best_gridtrain = RandomForestRegressor(random_state=42, max_features=3, n_estimators=1500)\n",
        "best_gridtrain.fit(X=df_train, y=y_train)\n",
        "grid_accuracytrain = evaluatetrain(best_gridtrain, X=df_train, y=y_train)"
      ],
      "execution_count": null,
      "outputs": [
        {
          "output_type": "stream",
          "name": "stdout",
          "text": [
            "Model Performance Training\n",
            "Average Error: 245.7160 degrees.\n",
            "Accuracy = 87.81%.\n"
          ]
        }
      ]
    },
    {
      "cell_type": "code",
      "metadata": {
        "id": "XWjDsLX82rvH",
        "colab": {
          "base_uri": "https://localhost:8080/"
        },
        "outputId": "b91487b2-ccce-4fc1-8f67-fae57501b2c9"
      },
      "source": [
        "best_gridtrain = RandomForestRegressor(random_state=42, max_features='sqrt', n_estimators=1000)\n",
        "best_gridtrain.fit(X=df_train, y=y_train)\n",
        "grid_accuracytrain = evaluatetrain(best_gridtrain, X=df_train, y=y_train)"
      ],
      "execution_count": null,
      "outputs": [
        {
          "output_type": "stream",
          "name": "stdout",
          "text": [
            "Model Performance Training\n",
            "Average Error: 245.5197 degrees.\n",
            "Accuracy = 87.82%.\n"
          ]
        }
      ]
    },
    {
      "cell_type": "code",
      "metadata": {
        "id": "3tIg7KyPGMEI",
        "colab": {
          "base_uri": "https://localhost:8080/"
        },
        "outputId": "4f483f87-838c-44d5-f552-11f50aeee3a7"
      },
      "source": [
        "print('Improvement of training {:0.2f}%.'.format(100*(grid_accuracytrain-base_accuracytrain)/base_accuracytrain))"
      ],
      "execution_count": null,
      "outputs": [
        {
          "output_type": "stream",
          "name": "stdout",
          "text": [
            "Improvement of training 0.37%.\n"
          ]
        }
      ]
    },
    {
      "cell_type": "code",
      "metadata": {
        "id": "28OBUHFWJEqD",
        "colab": {
          "base_uri": "https://localhost:8080/"
        },
        "outputId": "0bebf0a2-3f90-4d26-c724-e13d7eedcc55"
      },
      "source": [
        "best_gridtest = RandomForestRegressor(random_state=42, max_features=3, n_estimators=1500)\n",
        "best_gridtest.fit(X=df_test, y=y_test)\n",
        "grid_accuracytest = evaluatetest(best_gridtest, X=df_test, y=y_test)"
      ],
      "execution_count": null,
      "outputs": [
        {
          "output_type": "stream",
          "name": "stdout",
          "text": [
            "Model Performance Testing\n",
            "Average Error: 243.6735 degrees.\n",
            "Accuracy = 88.10%.\n"
          ]
        }
      ]
    },
    {
      "cell_type": "code",
      "metadata": {
        "id": "xDpj6J2UahGz",
        "colab": {
          "base_uri": "https://localhost:8080/"
        },
        "outputId": "6a3949d9-e7a1-49ed-c3e5-320eda68d937"
      },
      "source": [
        "best_gridtest = RandomForestRegressor(random_state=42, max_features='sqrt', n_estimators=1000)\n",
        "best_gridtest.fit(X=df_test, y=y_test)\n",
        "grid_accuracytest = evaluatetest(best_gridtest, X=df_test, y=y_test)"
      ],
      "execution_count": null,
      "outputs": [
        {
          "output_type": "stream",
          "name": "stdout",
          "text": [
            "Model Performance Testing\n",
            "Average Error: 244.2505 degrees.\n",
            "Accuracy = 88.07%.\n"
          ]
        }
      ]
    },
    {
      "cell_type": "code",
      "metadata": {
        "id": "DB7s4TVuKVnK",
        "colab": {
          "base_uri": "https://localhost:8080/"
        },
        "outputId": "f3b98aa5-4a56-403f-e091-b5c6795d4321"
      },
      "source": [
        "import joblib\n",
        "joblib.dump(best_gridtest, 'model.pkl')"
      ],
      "execution_count": null,
      "outputs": [
        {
          "output_type": "execute_result",
          "data": {
            "text/plain": [
              "['model.pkl']"
            ]
          },
          "metadata": {},
          "execution_count": 55
        }
      ]
    },
    {
      "cell_type": "code",
      "metadata": {
        "id": "ExbLkQytMe3E",
        "colab": {
          "base_uri": "https://localhost:8080/"
        },
        "outputId": "00e9be1e-725d-439d-ec2c-ec4769324e44"
      },
      "source": [
        "importances= list(best_gridtest.feature_importances_)\n",
        "predictors_list=list(predictors)\n",
        "feature_importances_=[(predictors, round(importance, 2)) for predictors, importance in zip(predictors_list, importances)]\n",
        "feature_importances_= sorted(feature_importances_, key = lambda x: x[1], reverse=True)\n",
        "[print('Variable: {:20} Importance: {}'.format(*pair)) for pair in feature_importances_]"
      ],
      "execution_count": null,
      "outputs": [
        {
          "output_type": "stream",
          "name": "stdout",
          "text": [
            "Variable: area                 Importance: 0.35\n",
            "Variable: city                 Importance: 0.15\n",
            "Variable: floor                Importance: 0.15\n",
            "Variable: bathroom             Importance: 0.09\n",
            "Variable: parking spaces       Importance: 0.09\n",
            "Variable: rooms                Importance: 0.07\n",
            "Variable: furniture            Importance: 0.07\n",
            "Variable: animal               Importance: 0.03\n"
          ]
        },
        {
          "output_type": "execute_result",
          "data": {
            "text/plain": [
              "[None, None, None, None, None, None, None, None]"
            ]
          },
          "metadata": {},
          "execution_count": 56
        }
      ]
    },
    {
      "cell_type": "code",
      "metadata": {
        "id": "TQ5FSAPnopBA",
        "colab": {
          "base_uri": "https://localhost:8080/"
        },
        "outputId": "675a18e0-6b8a-461a-9b63-b1f4a881d627"
      },
      "source": [
        "y_pred = best_gridtest.predict(df_test)\n",
        "y_pred"
      ],
      "execution_count": null,
      "outputs": [
        {
          "output_type": "execute_result",
          "data": {
            "text/plain": [
              "array([3059.22      , 3839.01266667, 1219.96699048, ..., 1745.189     ,\n",
              "       3081.618     , 2039.9625    ])"
            ]
          },
          "metadata": {},
          "execution_count": 57
        }
      ]
    },
    {
      "cell_type": "markdown",
      "metadata": {
        "id": "TavdpE30zdHA"
      },
      "source": [
        "# Library needed for Model Deployment"
      ]
    },
    {
      "cell_type": "code",
      "metadata": {
        "id": "9T9GXntmzXXu"
      },
      "source": [
        "!pip install pyngrok"
      ],
      "execution_count": null,
      "outputs": []
    },
    {
      "cell_type": "code",
      "metadata": {
        "id": "sX6UTgXSzkox"
      },
      "source": [
        "!uvicorn "
      ],
      "execution_count": null,
      "outputs": []
    },
    {
      "cell_type": "code",
      "metadata": {
        "id": "Lncb4vnOz2GP"
      },
      "source": [
        "!pip install streamlit"
      ],
      "execution_count": null,
      "outputs": []
    },
    {
      "cell_type": "code",
      "metadata": {
        "id": "N21GLvUZ0CzD"
      },
      "source": [
        "!pip install ipykernel>=5.1.2\n",
        "!pip install pydeck"
      ],
      "execution_count": null,
      "outputs": []
    },
    {
      "cell_type": "markdown",
      "metadata": {
        "id": "6kHK7fZh174m"
      },
      "source": [
        "# Building app.py"
      ]
    },
    {
      "cell_type": "code",
      "metadata": {
        "id": "B-sbj-gb0e0q"
      },
      "source": [
        "%%writefile app.py\n",
        " \n",
        "import pickle\n",
        "import streamlit as st\n",
        " \n",
        "# loading the trained model\n",
        "import joblib\n",
        "regressor = joblib.load('model.pkl')\n",
        " \n",
        "@st.cache()\n",
        "\n",
        "# predictors = ['city', 'area', 'rooms', 'bathroom', 'parking spaces', 'floor', 'animal', 'furniture']\n",
        "# defining the function which will make the prediction using the data which the user inputs \n",
        "def prediction(city, area, rooms, bathroom, parking_spaces, floor, animal, furniture):\n",
        "  # Preprocessing\n",
        "  # city\n",
        "  if city == 'Belo Horizonte':\n",
        "    city =  0\n",
        "  elif city == 'Campinas':\n",
        "    city = 1\n",
        "  elif city == 'Porto Alegre':\n",
        "    city = 2\n",
        "  elif city == 'Rio de Janeiro':\n",
        "    city = 3\n",
        "  elif city == 'São Paulo':\n",
        "    city = 4\n",
        "  # animal\n",
        "  if animal == 'Accept':\n",
        "    animal = 1\n",
        "  elif animal == 'Not Accept':\n",
        "    animal = 0\n",
        "  # furniture\n",
        "  if furniture == 'Furnished':\n",
        "    furniture = 1\n",
        "  elif furniture == 'Not Furnished':\n",
        "    furniture = 0\n",
        "  \n",
        "  # Making prediction\n",
        "\n",
        "  X = [[(city), int(area), int(rooms), int(bathroom), int(parking_spaces), int(floor), (animal), (furniture)]]\n",
        "  prediction = regressor.predict(X)\n",
        "  \n",
        "  return prediction\n",
        "\n",
        "  \n",
        "# this is the main function in which we define our webpage  \n",
        "def main():       \n",
        "    # front end elements of the web page \n",
        "    html_temp = \"\"\" \n",
        "    <div style =\"background-color:LightBlue;padding:13px\"> \n",
        "    <h1 style =\"color:black;text-align:center;\">Brazil House Rent Prediction ML App</h1> \n",
        "    </div> \n",
        "    \"\"\"\n",
        "      \n",
        "    # display the front end aspect\n",
        "    st.markdown(html_temp, unsafe_allow_html = True) \n",
        "\n",
        "    # following lines create boxes in which user can enter data required to make prediction \n",
        "    city = st.selectbox('City',(\"Belo Horizonte\",\"Campinas\",\"Porto Alegre\",\"Rio de Janeiro\",\"São Paulo\"))\n",
        "    area = st.slider(\"Area\", 1, 300) \n",
        "    rooms = st.number_input(\"Rooms\", 1, 10)\n",
        "    bathroom = st.number_input('Bathroom',1, 10)\n",
        "    parking_spaces = st.number_input(\"Parking Spaces\", 1, 10) \n",
        "    floor = st.number_input('Floor', 1, 20)\n",
        "    animal = st.radio(\"Animal\",['Accept','Not Accept'])\n",
        "    furniture = st.radio(\"Furniture\",['Furnished','Not Furnished'])\n",
        "    result =\"\"\n",
        "      \n",
        "    # when 'Predict' is clicked, make the prediction and store it \n",
        "    if st.button(\"Predict\"): \n",
        "        result = prediction((city), int(area), int(rooms), int(bathroom), int(parking_spaces), int(floor), (animal), (furniture))\n",
        "        st.success('House Rent Price is {}'.format(result))\n",
        "     \n",
        "if __name__=='__main__': \n",
        "    main()"
      ],
      "execution_count": null,
      "outputs": []
    },
    {
      "cell_type": "code",
      "metadata": {
        "id": "8dwitpAVBfaU"
      },
      "source": [
        "!streamlit run app.py &>/dev/null&"
      ],
      "execution_count": null,
      "outputs": []
    },
    {
      "cell_type": "code",
      "metadata": {
        "id": "uh2ML_u2LUWR"
      },
      "source": [
        "#!streamlit run --server.port 80 app.py >/dev/null"
      ],
      "execution_count": null,
      "outputs": []
    },
    {
      "cell_type": "code",
      "metadata": {
        "id": "fEDBqYxDBjIn"
      },
      "source": [
        "from pyngrok import ngrok\n",
        " \n",
        "public_url = ngrok.connect('8501')\n",
        "public_url\n",
        "\n"
      ],
      "execution_count": null,
      "outputs": []
    }
  ]
}